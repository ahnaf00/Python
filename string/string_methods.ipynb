{
 "cells": [
  {
   "metadata": {},
   "cell_type": "markdown",
   "source": "Case Conversion Methods",
   "id": "5b28e8a7b22365c9"
  },
  {
   "metadata": {},
   "cell_type": "code",
   "outputs": [],
   "execution_count": null,
   "source": [
    "text = \"machine learning\"\n",
    "print(text.upper())  # Output: MACHINE LEARNING"
   ],
   "id": "451744e3b17b6298"
  },
  {
   "metadata": {},
   "cell_type": "code",
   "outputs": [],
   "execution_count": null,
   "source": [
    "text = \"DATA SCIENCE\"\n",
    "print(text.lower())  # Output: data science"
   ],
   "id": "e30e22b109e5b62"
  },
  {
   "metadata": {},
   "cell_type": "code",
   "outputs": [],
   "execution_count": null,
   "source": [
    "text = \"python programming\"\n",
    "print(text.capitalize())  # Output: Python programming"
   ],
   "id": "241f49b5555fba30"
  },
  {
   "metadata": {},
   "cell_type": "code",
   "outputs": [],
   "execution_count": null,
   "source": [
    "text = \"artificial intelligence engineer\"\n",
    "print(text.title())  # Output: Artificial Intelligence Engineer"
   ],
   "id": "b35cd569395a9736"
  },
  {
   "metadata": {},
   "cell_type": "code",
   "outputs": [],
   "execution_count": null,
   "source": [
    "text = \"PyThOn\"\n",
    "print(text.swapcase())  # Output: pYtHoN"
   ],
   "id": "5829ab6d5f5f527d"
  },
  {
   "metadata": {},
   "cell_type": "code",
   "outputs": [],
   "execution_count": null,
   "source": [
    "text = \"   neural network   \"\n",
    "print(text.strip())  # Output: neural network"
   ],
   "id": "c3211c72b33e328"
  },
  {
   "metadata": {},
   "cell_type": "code",
   "outputs": [],
   "execution_count": null,
   "source": [
    "text = \"   deep learning\"\n",
    "print(text.lstrip())  # Output: deep learning"
   ],
   "id": "2f1bc9affb1578e2"
  },
  {
   "metadata": {},
   "cell_type": "markdown",
   "source": "Search and Find Methods",
   "id": "779d456576454568"
  },
  {
   "metadata": {},
   "cell_type": "code",
   "outputs": [],
   "execution_count": null,
   "source": [
    "text = \"natural language processing\"\n",
    "print(text.find(\"language\"))  # Output: 8"
   ],
   "id": "f2cfff7d653419d3"
  },
  {
   "metadata": {},
   "cell_type": "code",
   "outputs": [],
   "execution_count": null,
   "source": [
    "text = \"machine learning model\"\n",
    "print(text.index(\"learning\"))  # Output: 8"
   ],
   "id": "6356f584703a3bbf"
  },
  {
   "metadata": {},
   "cell_type": "code",
   "outputs": [],
   "execution_count": null,
   "source": [
    "text = \"data data science\"\n",
    "print(text.count(\"data\"))  # Output: 2"
   ],
   "id": "60e5d222cacf2d3e"
  },
  {
   "metadata": {},
   "cell_type": "code",
   "outputs": [],
   "execution_count": null,
   "source": [
    "text = \"model.pkl\"\n",
    "print(text.startswith(\"model\"))  # Output: True"
   ],
   "id": "54adfe83e91f9be0"
  },
  {
   "metadata": {},
   "cell_type": "code",
   "outputs": [],
   "execution_count": null,
   "source": [
    "filename = \"dataset.csv\"\n",
    "print(filename.endswith(\".csv\"))  # Output: True"
   ],
   "id": "2a594b78425626f4"
  },
  {
   "metadata": {},
   "cell_type": "code",
   "outputs": [],
   "execution_count": null,
   "source": [
    "text = \"I love JavaScript\"\n",
    "print(text.replace(\"JavaScript\", \"Python\"))  # Output: I love Python"
   ],
   "id": "d40dc47828fde9a7"
  },
  {
   "metadata": {},
   "cell_type": "code",
   "outputs": [],
   "execution_count": null,
   "source": [
    "text = \"model_weights.h5\"\n",
    "print(text.removeprefix(\"model_\"))  # Output: weights.h5"
   ],
   "id": "a226659cd6e107a8"
  },
  {
   "metadata": {},
   "cell_type": "code",
   "outputs": [],
   "execution_count": null,
   "source": [
    "text = \"dataset.csv\"\n",
    "print(text.removesuffix(\".csv\"))  # Output: dataset"
   ],
   "id": "950a01b5f7a58060"
  },
  {
   "metadata": {},
   "cell_type": "code",
   "outputs": [],
   "execution_count": null,
   "source": [
    "text = \"apple,banana,cherry\"\n",
    "print(text.split(\",\"))  # Output: ['apple', 'banana', 'cherry']"
   ],
   "id": "fca2ce94fd29e9a"
  },
  {
   "metadata": {},
   "cell_type": "code",
   "outputs": [],
   "execution_count": null,
   "source": [
    "text = \"a-b-c-d\"\n",
    "print(text.rsplit(\"-\", 1))  # Output: ['a-b-c', 'd']\n",
    "\n",
    "word = 'geeks, for, geeks, pawan'\n",
    "\n",
    "# maxsplit: 1\n",
    "print(word.rsplit(', ', 1)) #['geeks, for, geeks', 'pawan']\n",
    "\n",
    "# maxsplit: 3\n",
    "print(word.rsplit(', ', 3)) #['geeks', 'for', 'geeks', 'pawan']"
   ],
   "id": "1ff308d1d9e150eb"
  },
  {
   "metadata": {},
   "cell_type": "code",
   "outputs": [],
   "execution_count": null,
   "source": [
    "text = \"line1\\nline2\\nline3\"\n",
    "print(text.splitlines())  # Output: ['line1', 'line2', 'line3']"
   ],
   "id": "5a392140ac52ec3"
  },
  {
   "metadata": {},
   "cell_type": "code",
   "outputs": [],
   "execution_count": null,
   "source": [
    "words = [\"machine\", \"learning\", \"model\"]\n",
    "print(\" \".join(words))  # Output: machine learning model"
   ],
   "id": "f0efb592af0e0ded"
  },
  {
   "metadata": {},
   "cell_type": "code",
   "outputs": [],
   "execution_count": null,
   "source": [
    "text = \"key=value\"\n",
    "print(text.partition(\"=\"))  # Output: ('key', '=', 'value')"
   ],
   "id": "ca9b346bd6282ca5"
  },
  {
   "metadata": {},
   "cell_type": "markdown",
   "source": "Validation Methods",
   "id": "a379cdb185aa4e27"
  },
  {
   "metadata": {},
   "cell_type": "code",
   "outputs": [],
   "execution_count": null,
   "source": [
    "text = \"Python3\"\n",
    "print(text.isalnum())  # Output: True"
   ],
   "id": "f04b1fdde2bd9d6d"
  },
  {
   "metadata": {},
   "cell_type": "code",
   "outputs": [],
   "execution_count": null,
   "source": [
    "text = \"Python\"\n",
    "print(text.isalpha())  # Output: True"
   ],
   "id": "2bb82f1b729affa1"
  },
  {
   "metadata": {},
   "cell_type": "code",
   "outputs": [],
   "execution_count": null,
   "source": [
    "text = \"12345\"\n",
    "print(text.isdigit())  # Output: True"
   ],
   "id": "1416e3e42702130d"
  },
  {
   "metadata": {},
   "cell_type": "code",
   "outputs": [],
   "execution_count": null,
   "source": [
    "text = \"100\"\n",
    "print(text.isnumeric())  # Output: True"
   ],
   "id": "235116f66d4f4c10"
  },
  {
   "metadata": {},
   "cell_type": "code",
   "outputs": [],
   "execution_count": null,
   "source": [
    "# isspace() - Checks if string contains only whitespace.\n",
    "text = \"   \"\n",
    "print(text.isspace())  # Output: True"
   ],
   "id": "3c7ae2d424ebcf5f"
  },
  {
   "metadata": {},
   "cell_type": "code",
   "outputs": [],
   "execution_count": null,
   "source": [
    "text = \"python\"\n",
    "print(text.islower())  # Output: True"
   ],
   "id": "e9a945b562171993"
  },
  {
   "metadata": {},
   "cell_type": "code",
   "outputs": [],
   "execution_count": null,
   "source": [
    "text = \"PYTHON\"\n",
    "print(text.isupper())  # Output: True"
   ],
   "id": "f7524b04ff7f01d"
  },
  {
   "metadata": {},
   "cell_type": "markdown",
   "source": "Formatting Methods",
   "id": "5f0fd1eccc7169a0"
  },
  {
   "metadata": {},
   "cell_type": "code",
   "outputs": [],
   "execution_count": null,
   "source": [
    "name = \"Model\"\n",
    "accuracy = 0.95\n",
    "result = \"{} achieved {:.2%} accuracy\".format(name, accuracy)\n",
    "print(result)  # Output: Model achieved 95.00% accuracy"
   ],
   "id": "bd32f6bd203ccec0"
  },
  {
   "metadata": {},
   "cell_type": "code",
   "outputs": [],
   "execution_count": null,
   "source": [
    "text = \"AI\"\n",
    "print(text.center(10, \"*\"))  # Output: ****AI****"
   ],
   "id": "98843a3231f64dad"
  },
  {
   "metadata": {},
   "cell_type": "code",
   "outputs": [],
   "execution_count": null,
   "source": [
    "#ljust() - Left-aligns string with specified width.\n",
    "text = \"ML\"\n",
    "print(text.ljust(5, \"-\"))  # Output: ML---"
   ],
   "id": "22d45442f31d6ee2"
  },
  {
   "metadata": {},
   "cell_type": "code",
   "outputs": [],
   "execution_count": null,
   "source": [
    "# rjust() - Right-aligns string with specified width.\n",
    "text = \"AI\"\n",
    "print(text.rjust(5, \"-\"))  # Output: ---AI"
   ],
   "id": "3f434a54d2eaaa4f"
  },
  {
   "metadata": {},
   "cell_type": "code",
   "outputs": [],
   "execution_count": null,
   "source": [
    "# zfill() - Pads string with zeros on the left.\n",
    "text = \"42\"\n",
    "print(text.zfill(5))  # Output: 00042"
   ],
   "id": "a58c0798cedde920"
  },
  {
   "metadata": {},
   "cell_type": "code",
   "outputs": [],
   "execution_count": null,
   "source": [
    "a = \"shakshi\" # name\n",
    "b = 22 # age\n",
    "\n",
    "msg = \"My name is {0} and I am {1} years old.\".format(a,b)\n",
    "print(msg) #Output: My name is shakshi and I am 22 years old.\n",
    "\n",
    "print(\"This is {} {} {} {}.\".format(\"one\", \"two\", \"three\", \"four\")) # Output: This is one two three four."
   ],
   "id": "c2eaf88b02f645a1"
  },
  {
   "metadata": {},
   "cell_type": "code",
   "outputs": [],
   "execution_count": null,
   "source": [
    "# input stored in variable a.\n",
    "a = {'x':'John', 'y':'Wick'}\n",
    "\n",
    "# Use of format_map() function\n",
    "print(\"{x}'s last name is {y}\".format_map(a)) #John's last name is Wick\n",
    "\n",
    "# Input dictionary\n",
    "profession = { 'name':['Barry', 'Bruce'],\n",
    "               'profession':['Engineer', 'Doctor'],\n",
    "               'age':[30, 31] }\n",
    "\n",
    "# Use of format_map() function\n",
    "print('{name[0]} is an {profession[0]} and he'\n",
    "      ' is {age[0]} years old.'.format_map(profession))\n",
    "\n",
    "print('{name[1]} is an {profession[1]} and he'\n",
    "      ' is {age[1]} years old.'.format_map(profession))"
   ],
   "id": "578255c110cea272"
  }
 ],
 "metadata": {
  "kernelspec": {
   "display_name": "Python 3",
   "language": "python",
   "name": "python3"
  },
  "language_info": {
   "codemirror_mode": {
    "name": "ipython",
    "version": 2
   },
   "file_extension": ".py",
   "mimetype": "text/x-python",
   "name": "python",
   "nbconvert_exporter": "python",
   "pygments_lexer": "ipython2",
   "version": "2.7.6"
  }
 },
 "nbformat": 4,
 "nbformat_minor": 5
}
