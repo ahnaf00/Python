{
 "cells": [
  {
   "cell_type": "code",
   "execution_count": null,
   "id": "initial_id",
   "metadata": {
    "collapsed": true
   },
   "outputs": [],
   "source": [
    "from traceback import print_tb\n",
    "\n",
    "numbers = [i for i in range(10)]\n",
    "print(numbers)  # Output: [0, 1, 2, 3, 4, 5, 6, 7, 8, 9]"
   ]
  },
  {
   "metadata": {},
   "cell_type": "code",
   "outputs": [],
   "execution_count": null,
   "source": [
    "numbers = [1, 2, 3, 4, 5]\n",
    "squared = [num * num for num in numbers]\n",
    "print(squared)  # Output: [1, 4, 9, 16, 25]"
   ],
   "id": "b6e37b86061d3ce1"
  },
  {
   "metadata": {},
   "cell_type": "code",
   "outputs": [],
   "execution_count": null,
   "source": [
    "numbers = [1, 2, 3, 4, 5]\n",
    "doubled = [num * 2 for num in numbers]\n",
    "print(doubled)  # Output: [2, 4, 6, 8, 10]"
   ],
   "id": "860fd94e9194585f"
  },
  {
   "metadata": {},
   "cell_type": "code",
   "source": [
    "numbers = [1, 2, 3, 4, 5, 6, 7, 8, 9, 10]\n",
    "even_numbers = [x for x in numbers if x%2==0]\n",
    "print(even_numbers)  # Output: [2, 4, 6, 8, 10]"
   ],
   "id": "15a4a88ea581267d",
   "outputs": [],
   "execution_count": null
  },
  {
   "metadata": {},
   "cell_type": "code",
   "source": [
    "fruits = [\"apple\", \"banana\", \"cherry\", \"kiwi\", \"mango\"]\n",
    "fruits_with_a = [x for x in fruits if \"a\" in x]\n",
    "print(fruits_with_a) # Output: ['apple', 'banana', 'mango']"
   ],
   "id": "1d2908ed4b439f0f",
   "outputs": [],
   "execution_count": null
  },
  {
   "metadata": {},
   "cell_type": "code",
   "source": [
    "name = \"Python\"\n",
    "chars = [char for char in name]\n",
    "print(chars) # Output: ['P', 'y', 't', 'h', 'o', 'n']"
   ],
   "id": "36d01dc2ce36489",
   "outputs": [],
   "execution_count": null
  },
  {
   "metadata": {},
   "cell_type": "code",
   "source": [
    "nums = range(1,5)\n",
    "labels = ['Even' if x%2==0 else 'Odd' for x in nums]\n",
    "print(labels) # ['Odd', 'Even', 'Odd', 'Even']"
   ],
   "id": "2f7b53288cfecb9f",
   "outputs": [],
   "execution_count": null
  },
  {
   "metadata": {},
   "cell_type": "code",
   "source": [
    "words = ['hello', 'world', 'python']\n",
    "upper_case = [word.upper() for word in words]\n",
    "print(upper_case) # ['HELLO', 'WORLD', 'PYTHON']"
   ],
   "id": "e73fa5da97870bb7",
   "outputs": [],
   "execution_count": null
  },
  {
   "metadata": {},
   "cell_type": "code",
   "source": [
    "coordinates = [(x,y) for x in range(3) for y in range(3)]\n",
    "print(coordinates)  #[(0, 0), (0, 1), (0, 2), (1, 0), (1, 1), (1, 2), (2, 0), (2, 1), (2, 2)]"
   ],
   "id": "49c90f7248aa01f5",
   "outputs": [],
   "execution_count": null
  },
  {
   "metadata": {},
   "cell_type": "code",
   "outputs": [],
   "execution_count": null,
   "source": [
    "numbers = [10, 15, 20, 25, 30]\n",
    "greater_than_20 = [num > 20 for num in numbers]\n",
    "print(greater_than_20)  # Output: [False, False, False, True, True]"
   ],
   "id": "4a0a078cc9082dac"
  },
  {
   "metadata": {},
   "cell_type": "markdown",
   "source": "Simple Matrix Creation",
   "id": "27b7d76d1b48d98a"
  },
  {
   "metadata": {},
   "cell_type": "code",
   "source": [
    "matrix = [[j for j in range(1,4)] for i in range(3)]\n",
    "print(matrix) #[[1, 2, 3], [1, 2, 3], [1, 2, 3]]"
   ],
   "id": "2bb50f2d717f334d",
   "outputs": [],
   "execution_count": null
  },
  {
   "metadata": {},
   "cell_type": "markdown",
   "source": "Advanced (widely used in AI, Machine Learning)",
   "id": "55a80dd3c3f8a122"
  },
  {
   "metadata": {},
   "cell_type": "code",
   "outputs": [],
   "execution_count": null,
   "source": [
    "# Normalizing feature values\n",
    "raw_features = [10, 20, 30, 40, 50]\n",
    "min_val, max_val = min(raw_features), max(raw_features)\n",
    "normalized = [(x - min_val) / (max_val - min_val) for x in raw_features]\n",
    "print(normalized)  # Output: [0.0, 0.25, 0.5, 0.75, 1.0]"
   ],
   "id": "12febe047ca56682"
  },
  {
   "metadata": {},
   "cell_type": "code",
   "outputs": [],
   "execution_count": null,
   "source": [
    "# Creating binary labels for 'positive' class\n",
    "labels = ['positive', 'negative', 'positive', 'neutral', 'positive']\n",
    "one_hot = [1 if label == 'positive' else 0 for label in labels]\n",
    "print(one_hot)  # Output: [1, 0, 1, 0, 1]"
   ],
   "id": "a910234ee3118236"
  },
  {
   "metadata": {},
   "cell_type": "code",
   "outputs": [],
   "execution_count": null,
   "source": [
    "# Keeping only valid probability values\n",
    "predictions = [0.85, 1.2, 0.65, -0.1, 0.92, 0.78]\n",
    "valid_predictions = [p for p in predictions if 0 <= p <= 1]\n",
    "print(valid_predictions)  # Output: [0.85, 0.65, 0.92, 0.78]"
   ],
   "id": "f703ec39876c17c2"
  },
  {
   "metadata": {},
   "cell_type": "code",
   "outputs": [],
   "execution_count": null,
   "source": [
    "# ReLU activation: max(0, x)\n",
    "neuron_outputs = [-2.5, 1.3, -0.8, 3.2, 0.0, -1.1]\n",
    "relu_activated = [max(0, x) for x in neuron_outputs]\n",
    "print(relu_activated)  # Output: [0, 1.3, 0, 3.2, 0, 0]"
   ],
   "id": "390d553061d0fd55"
  },
  {
   "metadata": {},
   "cell_type": "code",
   "outputs": [],
   "execution_count": null,
   "source": [
    "# Creating squared features\n",
    "original_features = [1, 2, 3, 4, 5]\n",
    "squared_features = [x**2 for x in original_features]\n",
    "print(squared_features)  # Output: [1, 4, 9, 16, 25]"
   ],
   "id": "4dced52a018177ff"
  },
  {
   "metadata": {},
   "cell_type": "code",
   "outputs": [],
   "execution_count": null,
   "source": [
    "# Flattening a batch of image pixel matrices\n",
    "image_batch = [[255, 128, 64], [32, 16, 8], [4, 2, 1]]\n",
    "flattened_pixels = [pixel for row in image_batch for pixel in row]\n",
    "print(flattened_pixels)  # Output: [255, 128, 64, 32, 16, 8, 4, 2, 1]"
   ],
   "id": "9aba65ae311f686a"
  },
  {
   "metadata": {},
   "cell_type": "code",
   "outputs": [],
   "execution_count": null,
   "source": [
    "# Creating indices for 80-20 train-test split\n",
    "total_samples = 100\n",
    "train_indices = [i for i in range(total_samples) if i < int(0.8 * total_samples)]\n",
    "test_indices = [i for i in range(total_samples) if i >= int(0.8 * total_samples)]\n",
    "print(f\"Training samples: {len(train_indices)}, Test samples: {len(test_indices)}\")\n",
    "# Output: Training samples: 80, Test samples: 20"
   ],
   "id": "294b1e37defd745b"
  },
  {
   "metadata": {},
   "cell_type": "markdown",
   "source": "Splitting and cleaning text data for NLP tasks.",
   "id": "8abab497950779fd"
  },
  {
   "metadata": {},
   "cell_type": "code",
   "outputs": [],
   "execution_count": null,
   "source": [
    "# Extracting words longer than 3 characters\n",
    "sentence = \"The quick brown fox jumps over the lazy dog\"\n",
    "tokens = [word for word in sentence.split() if len(word) > 3]\n",
    "print(tokens)  # Output: ['quick', 'brown', 'jumps', 'over', 'lazy']"
   ],
   "id": "62255e615f244e61"
  },
  {
   "metadata": {},
   "cell_type": "code",
   "outputs": [],
   "execution_count": null,
   "source": [
    "# Converting probabilities to binary predictions (threshold = 0.5)\n",
    "probabilities = [0.23, 0.87, 0.45, 0.91, 0.12, 0.67]\n",
    "binary_predictions = [1 if p >= 0.5 else 0 for p in probabilities]\n",
    "print(binary_predictions)  # Output: [0, 1, 0, 1, 0, 1]"
   ],
   "id": "78fd7f000c14e0b4"
  },
  {
   "metadata": {},
   "cell_type": "code",
   "outputs": [],
   "execution_count": null,
   "source": [
    "# Creating all combinations of learning rates and batch sizes\n",
    "learning_rates = [0.001, 0.01, 0.1]\n",
    "batch_sizes = [16, 32, 64]\n",
    "hyperparameter_combos = [(lr, bs) for lr in learning_rates for bs in batch_sizes]\n",
    "print(hyperparameter_combos)\n",
    "# Output: [(0.001, 16), (0.001, 32), (0.001, 64), (0.01, 16), (0.01, 32),\n",
    "#          (0.01, 64), (0.1, 16), (0.1, 32), (0.1, 64)]"
   ],
   "id": "a791af59f803ac87"
  },
  {
   "metadata": {},
   "cell_type": "code",
   "outputs": [],
   "execution_count": null,
   "source": [
    "# Converting Celsius to Fahrenheit\n",
    "celsius_readings = [20, 25, 30, 35, 40]\n",
    "fahrenheit_readings = [(9/5) * temp + 32 for temp in celsius_readings]\n",
    "print(fahrenheit_readings)  # Output: [68.0, 77.0, 86.0, 95.0, 104.0]"
   ],
   "id": "1cb6e2b400229859"
  },
  {
   "metadata": {},
   "cell_type": "code",
   "outputs": [],
   "execution_count": null,
   "source": [
    "# Extracting ages from patient records\n",
    "patients = [{'name': 'Alice', 'age': 25}, {'name': 'Bob', 'age': 30}, {'name': 'Charlie', 'age': 35}]\n",
    "ages = [patient['age'] for patient in patients]\n",
    "print(ages)  # Output: [25, 30, 35]"
   ],
   "id": "ac8fb05258be2d51"
  },
  {
   "metadata": {},
   "cell_type": "markdown",
   "source": [
    "Computing Euclidean Distance Components -\n",
    "Calculating distance components for similarity metrics."
   ],
   "id": "6020797b226caeba"
  },
  {
   "metadata": {},
   "cell_type": "code",
   "outputs": [],
   "execution_count": null,
   "source": [
    "# Computing squared differences for Euclidean distance\n",
    "point_a = [1, 2, 3]\n",
    "point_b = [4, 6, 8]\n",
    "squared_diffs = [(a - b)**2 for a, b in zip(point_a, point_b)]\n",
    "distance = sum(squared_diffs) ** 0.5\n",
    "print(f\"Squared differences: {squared_diffs}, Distance: {distance:.2f}\")\n",
    "# Output: Squared differences: [9, 16, 25], Distance: 7.07"
   ],
   "id": "f6572d4063e8bba2"
  },
  {
   "metadata": {},
   "cell_type": "code",
   "source": [
    "# Selecting features with importance scores above threshold\n",
    "feature_names = ['age', 'income', 'gender', 'education', 'occupation']\n",
    "importance_scores = [0.85, 0.42, 0.15, 0.78, 0.33]\n",
    "threshold = 0.5\n",
    "selected_features = [name for name, score in zip(feature_names, importance_scores) if score >= threshold]\n",
    "print(selected_features)  # Output: ['age', 'education']"
   ],
   "id": "3297caa40b3533cd",
   "outputs": [],
   "execution_count": null
  },
  {
   "metadata": {},
   "cell_type": "code",
   "outputs": [],
   "execution_count": null,
   "source": [
    "# Assigning batch IDs to samples\n",
    "total_samples = 10\n",
    "batch_size = 3\n",
    "batch_ids = [i // batch_size for i in range(total_samples)]\n",
    "print(batch_ids)  # Output: [0, 0, 0, 1, 1, 1, 2, 2, 2, 3]"
   ],
   "id": "ce2f39e2310c0815"
  }
 ],
 "metadata": {
  "kernelspec": {
   "display_name": "Python 3",
   "language": "python",
   "name": "python3"
  },
  "language_info": {
   "codemirror_mode": {
    "name": "ipython",
    "version": 2
   },
   "file_extension": ".py",
   "mimetype": "text/x-python",
   "name": "python",
   "nbconvert_exporter": "python",
   "pygments_lexer": "ipython2",
   "version": "2.7.6"
  }
 },
 "nbformat": 4,
 "nbformat_minor": 5
}
