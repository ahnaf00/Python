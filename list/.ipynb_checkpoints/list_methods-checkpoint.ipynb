{
 "cells": [
  {
   "metadata": {},
   "cell_type": "markdown",
   "source": "append()",
   "id": "9870aaca1dcc1087"
  },
  {
   "metadata": {
    "collapsed": true
   },
   "cell_type": "code",
   "outputs": [],
   "execution_count": null,
   "source": [
    "predictions = [0.85, 0.92, 0.78]\n",
    "predictions.append(0.88)\n",
    "print(predictions)  # Output: [0.85, 0.92, 0.78, 0.88]"
   ],
   "id": "8813676c51052ead"
  },
  {
   "metadata": {},
   "cell_type": "markdown",
   "source": "extend()",
   "id": "e379a1fb83f512e"
  },
  {
   "metadata": {},
   "cell_type": "code",
   "outputs": [],
   "execution_count": null,
   "source": [
    "features_batch1 = [1.2, 3.4, 5.6]\n",
    "features_batch2 = [7.8, 9.0, 2.1]\n",
    "features_batch1.extend(features_batch2)\n",
    "print(features_batch1)  # Output: [1.2, 3.4, 5.6, 7.8, 9.0, 2.1]"
   ],
   "id": "38f013e06d23ed58"
  },
  {
   "metadata": {},
   "cell_type": "markdown",
   "source": "insert()",
   "id": "a22907872dfa0254"
  },
  {
   "metadata": {},
   "cell_type": "code",
   "outputs": [],
   "execution_count": null,
   "source": [
    "data_points = [10, 20, 40, 50]\n",
    "data_points.insert(2, 30)\n",
    "print(data_points)  # Output: [10, 20, 30, 40, 50]"
   ],
   "id": "b4846634417c2161"
  },
  {
   "metadata": {},
   "cell_type": "markdown",
   "source": "remove()",
   "id": "ba9b2e64688835c8"
  },
  {
   "metadata": {},
   "cell_type": "code",
   "outputs": [],
   "execution_count": null,
   "source": [
    "outliers = [1, 2, 999, 3, 4]\n",
    "outliers.remove(999)\n",
    "print(outliers)  # Output: [1, 2, 3, 4]"
   ],
   "id": "9c3bab934eea76"
  },
  {
   "metadata": {},
   "cell_type": "markdown",
   "source": "pop()",
   "id": "25af60a631a0da4a"
  },
  {
   "metadata": {
    "jupyter": {
     "is_executing": true
    }
   },
   "cell_type": "code",
   "source": [
    "#Removes and returns an element at a specified index (or the last element if no index is provided), useful for batch processing and queue operations.\n",
    "training_queue = ['sample1', 'sample2', 'sample3']\n",
    "current_sample = training_queue.pop(0)\n",
    "print(current_sample)  # Output: 'sample1'\n",
    "print(training_queue)  # Output: ['sample2', 'sample3']"
   ],
   "id": "b4aaa689b0d11f88",
   "outputs": [],
   "execution_count": null
  },
  {
   "metadata": {},
   "cell_type": "markdown",
   "source": "index()",
   "id": "daa11d52e876f093"
  },
  {
   "metadata": {},
   "cell_type": "code",
   "source": [
    "labels = ['cat', 'dog', 'bird', 'dog']\n",
    "position = labels.index('dog')\n",
    "print(position)  # Output: 1"
   ],
   "id": "3dc9c4a09ddbb605",
   "outputs": [],
   "execution_count": null
  },
  {
   "metadata": {},
   "cell_type": "markdown",
   "source": "count()",
   "id": "8690dfc6f09e3f58"
  },
  {
   "metadata": {},
   "cell_type": "code",
   "outputs": [],
   "execution_count": null,
   "source": [
    "class_labels = [0, 1, 0, 1, 1, 0, 1]\n",
    "positive_count = class_labels.count(1)\n",
    "print(positive_count)  # Output: 4"
   ],
   "id": "b03792a0fa617e7"
  },
  {
   "metadata": {},
   "cell_type": "markdown",
   "source": "sort()",
   "id": "ec12bb9a6bca5cad"
  },
  {
   "metadata": {},
   "cell_type": "code",
   "outputs": [],
   "execution_count": null,
   "source": [
    "accuracies = [0.85, 0.92, 0.78, 0.95]\n",
    "accuracies.sort(reverse=True)\n",
    "print(accuracies)  # Output: [0.95, 0.92, 0.85, 0.78]"
   ],
   "id": "16993944eac15b5c"
  },
  {
   "metadata": {},
   "cell_type": "markdown",
   "source": "reverse()",
   "id": "1bf319b393e15edb"
  },
  {
   "metadata": {},
   "cell_type": "code",
   "outputs": [],
   "execution_count": null,
   "source": [
    "time_series = [1, 2, 3, 4, 5]\n",
    "time_series.reverse()\n",
    "print(time_series)  # Output: [5, 4, 3, 2, 1]"
   ],
   "id": "1fdb1206c34aa81c"
  },
  {
   "metadata": {},
   "cell_type": "markdown",
   "source": "copy()",
   "id": "45f73180d344a3e8"
  },
  {
   "metadata": {},
   "cell_type": "code",
   "outputs": [],
   "execution_count": null,
   "source": [
    "original_data = [1.5, 2.3, 4.7]\n",
    "backup_data = original_data.copy()\n",
    "backup_data.append(6.2)\n",
    "print(original_data)  # Output: [1.5, 2.3, 4.7]\n",
    "print(backup_data)    # Output: [1.5, 2.3, 4.7, 6.2]"
   ],
   "id": "384d20c2844ba429"
  },
  {
   "metadata": {},
   "cell_type": "markdown",
   "source": "clear()",
   "id": "4519c1275b9d206"
  },
  {
   "metadata": {},
   "cell_type": "code",
   "outputs": [],
   "execution_count": null,
   "source": [
    "temp_batch = [100, 200, 300]\n",
    "temp_batch.clear()\n",
    "print(temp_batch)  # Output: []"
   ],
   "id": "f5c4e29b327c2361"
  },
  {
   "metadata": {},
   "cell_type": "markdown",
   "source": "Nested Lists",
   "id": "5d885ad16c8a28b7"
  },
  {
   "metadata": {
    "jupyter": {
     "is_executing": true
    }
   },
   "cell_type": "code",
   "source": [
    "matrix = [ [1, 2, 3],\n",
    "           [4, 5, 6],\n",
    "           [7, 8, 9] ]\n",
    "print(matrix[1][2]) # Output: 6"
   ],
   "id": "b837155f2050d08a",
   "outputs": [],
   "execution_count": null
  },
  {
   "metadata": {},
   "cell_type": "markdown",
   "source": "Filtering Missing Values",
   "id": "74ebc481c3da2d74"
  },
  {
   "metadata": {
    "jupyter": {
     "is_executing": true
    }
   },
   "cell_type": "code",
   "source": [
    "survey_responses = [25, None, 30, '', 35, None, 40, 'N/A']\n",
    "clean_response = [x for x in survey_responses if x not in ['None','','N/A']]\n",
    "print(clean_response) # Output: [25, 30, 35, 40]"
   ],
   "id": "fec42a23a4fadf",
   "outputs": [],
   "execution_count": null
  },
  {
   "metadata": {},
   "cell_type": "code",
   "outputs": [],
   "execution_count": null,
   "source": "",
   "id": "40cf151b844c19b6"
  }
 ],
 "metadata": {
  "kernelspec": {
   "display_name": "Python 3",
   "language": "python",
   "name": "python3"
  },
  "language_info": {
   "codemirror_mode": {
    "name": "ipython",
    "version": 2
   },
   "file_extension": ".py",
   "mimetype": "text/x-python",
   "name": "python",
   "nbconvert_exporter": "python",
   "pygments_lexer": "ipython2",
   "version": "2.7.6"
  }
 },
 "nbformat": 4,
 "nbformat_minor": 5
}
