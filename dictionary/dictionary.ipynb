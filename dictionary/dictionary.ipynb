{
 "cells": [
  {
   "cell_type": "code",
   "execution_count": null,
   "id": "initial_id",
   "metadata": {
    "collapsed": true
   },
   "outputs": [],
   "source": [
    "# Create a dictionary with curly braces\n",
    "student = {\n",
    "    \"name\": \"Alice\",\n",
    "    \"age\": 23,\n",
    "    \"courses\": [\"Math\", \"Physics\"]\n",
    "}\n",
    "print(student)\n",
    "# Output: {'name': 'Alice', 'age': 23, 'courses': ['Math', 'Physics']}"
   ]
  },
  {
   "metadata": {},
   "cell_type": "code",
   "source": [
    "student = dict(name=\"Alice\", age=23, courses=[\"Math\", \"Physics\"])\n",
    "print(student[\"name\"])  # Output: Alice\n",
    "print(student.get(\"age\"))  # Output: 23\n",
    "\n",
    "student[\"grade\"] = \"A\"  # Add new key-value pair\n",
    "student[\"age\"] = 24     # Update existing value\n",
    "print(student)\n",
    "# {'name': 'Alice', 'age': 24, 'courses': ['Math', 'Physics'], 'grade': 'A'}\n",
    "\n",
    "del student[\"grade\"]  # Remove by key\n",
    "print(student) # {'name': 'Alice', 'age': 24, 'courses': ['Math', 'Physics']}\n",
    "age = student.pop(\"age\")  # Remove and return value\n",
    "print(student) # {'name': 'Alice', 'courses': ['Math', 'Physics']}\n",
    "last_item = student.popitem()  # Remove and return last key-value pair\n",
    "print(student) # {'name': 'Alice'}\n",
    "student.clear()  # Remove all items\n",
    "print(student) # {}\n",
    "\n",
    "# .keys(), .values(), .items()\n",
    "print(student.keys())    # dict_keys(['name', 'courses'])\n",
    "print(student.values())  # dict_values(['Alice', ['Math', 'Physics']])\n",
    "print(student.items())   # dict_items([('name', 'Alice'), ('courses', ['Math','Physics']])\n"
   ],
   "id": "a46693aab18dbaf",
   "outputs": [],
   "execution_count": null
  },
  {
   "metadata": {},
   "cell_type": "code",
   "source": [
    "student = dict(name=\"Alice\", age=23, courses=[\"Math\", \"Physics\"])\n",
    "# .keys(), .values(), .items()\n",
    "print(student.keys())    # dict_keys(['name', 'courses'])\n",
    "print(student.values())  # dict_values(['Alice', ['Math', 'Physics']])\n",
    "print(student.items())   # dict_items([('name', 'Alice'), ('courses', ['Math','Physics']])\n"
   ],
   "id": "f76265e2d9672190",
   "outputs": [],
   "execution_count": null
  },
  {
   "metadata": {},
   "cell_type": "code",
   "source": [
    "student_copy = student.copy()\n",
    "print(student_copy)"
   ],
   "id": "9bcae4c2ce38190d",
   "outputs": [],
   "execution_count": null
  },
  {
   "metadata": {},
   "cell_type": "code",
   "outputs": [],
   "execution_count": null,
   "source": "print(\"name\" in student)  # Output: True",
   "id": "84c51a61f4888bfc"
  },
  {
   "metadata": {},
   "cell_type": "code",
   "outputs": [],
   "execution_count": null,
   "source": [
    "# Count word frequencies in a list\n",
    "words = [\"apple\", \"banana\", \"apple\", \"orange\", \"banana\", \"apple\"]\n",
    "freq = {}\n",
    "for word in words:\n",
    "    freq[word] = freq.get(word, 0) + 1\n",
    "print(freq)\n",
    "# Output: {'apple': 3, 'banana': 2, 'orange': 1}"
   ],
   "id": "5c6e9446533d165c"
  },
  {
   "metadata": {},
   "cell_type": "code",
   "outputs": [],
   "execution_count": null,
   "source": [
    "# Map names to scores\n",
    "names = [\"Alice\", \"Bob\", \"Charlie\"]\n",
    "scores = [85, 92, 78]\n",
    "score_dict = dict(zip(names, scores))\n",
    "print(score_dict)\n",
    "# Output: {'Alice': 85, 'Bob': 92, 'Charlie': 78}"
   ],
   "id": "12a49c03a7f24c59"
  },
  {
   "metadata": {},
   "cell_type": "code",
   "outputs": [],
   "execution_count": null,
   "source": [
    "# Create a dictionary of squares\n",
    "squares = {x: x**2 for x in range(1, 6)}\n",
    "print(squares)\n",
    "# Output: {1: 1, 2: 4, 3: 9, 4: 16, 5: 25}"
   ],
   "id": "5a78bc0b9adc8316"
  },
  {
   "metadata": {},
   "cell_type": "code",
   "outputs": [],
   "execution_count": null,
   "source": [
    "# Print all key-value pairs\n",
    "person = {\"name\": \"Alice\", \"age\": 30, \"city\": \"New York\"}\n",
    "for key, value in person.items():\n",
    "    print(f\"{key}: {value}\")\n",
    "# Output:\n",
    "# name: Alice\n",
    "# age: 30\n",
    "# city: New York"
   ],
   "id": "c8bbba26eb143961"
  },
  {
   "metadata": {},
   "cell_type": "code",
   "source": [
    "scores = {\"Alice\": 85, \"Bob\": 92, \"Charlie\": 78}\n",
    "passed = {k:v for k,v in scores.items() if v >= 80}\n",
    "print(passed)\n",
    "# Output: {'Alice': 85, 'Bob': 92}"
   ],
   "id": "98b4eeb95224de59",
   "outputs": [],
   "execution_count": null
  },
  {
   "metadata": {},
   "cell_type": "code",
   "source": [
    "my_dict = {'name': 'Alice'}\n",
    "print(my_dict.get('gender', 'Unknown'))  # Safer than my_dict['gender']\n",
    "# Output: Unknown"
   ],
   "id": "24309d6f5eb59a69",
   "outputs": [],
   "execution_count": null
  },
  {
   "metadata": {},
   "cell_type": "code",
   "outputs": [],
   "execution_count": null,
   "source": "",
   "id": "9e9065195c62a338"
  }
 ],
 "metadata": {
  "kernelspec": {
   "display_name": "Python 3",
   "language": "python",
   "name": "python3"
  },
  "language_info": {
   "codemirror_mode": {
    "name": "ipython",
    "version": 2
   },
   "file_extension": ".py",
   "mimetype": "text/x-python",
   "name": "python",
   "nbconvert_exporter": "python",
   "pygments_lexer": "ipython2",
   "version": "2.7.6"
  }
 },
 "nbformat": 4,
 "nbformat_minor": 5
}
