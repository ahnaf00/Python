{
 "cells": [
  {
   "cell_type": "code",
   "id": "initial_id",
   "metadata": {
    "collapsed": true
   },
   "source": [
    "def greet(name):\n",
    "    return f\"Hello {name}\"\n",
    "print(greet(\"ahnaf\"))"
   ],
   "outputs": [],
   "execution_count": null
  },
  {
   "metadata": {},
   "cell_type": "code",
   "source": [
    "def power(base,exponent = 2):\n",
    "    return base**exponent\n",
    "print(power(3))"
   ],
   "id": "7f0edd32e97da111",
   "outputs": [],
   "execution_count": null
  },
  {
   "metadata": {},
   "cell_type": "markdown",
   "source": "Variable Length Arguments",
   "id": "25d92720367fd882"
  },
  {
   "metadata": {},
   "cell_type": "code",
   "source": [
    "def summery_stats(*nums):\n",
    "    return sum(nums), min(nums), max(nums)\n",
    "print(type(summery_stats(1,2,3,5,6))) # Output: <class 'tuple'>\n",
    "print(summery_stats(1,2,3,5,6)) # Output: (17, 1, 6)"
   ],
   "id": "46d0f262200b4d87",
   "outputs": [],
   "execution_count": null
  },
  {
   "metadata": {
    "ExecuteTime": {
     "end_time": "2025-10-14T16:29:48.832046Z",
     "start_time": "2025-10-14T16:29:48.828885Z"
    }
   },
   "cell_type": "code",
   "source": [
    "def give_pred(a,b):\n",
    "    return a,b\n",
    "print(type(give_pred))\n",
    "print(type(give_pred(1,2)))\n",
    "x,y = give_pred(12,13)\n",
    "print(x,y)"
   ],
   "id": "c151b0fbc62f6793",
   "outputs": [
    {
     "name": "stdout",
     "output_type": "stream",
     "text": [
      "<class 'function'>\n",
      "<class 'tuple'>\n",
      "12 13\n"
     ]
    }
   ],
   "execution_count": 27
  },
  {
   "metadata": {
    "ExecuteTime": {
     "end_time": "2025-10-14T16:31:59.836629Z",
     "start_time": "2025-10-14T16:31:59.832988Z"
    }
   },
   "cell_type": "code",
   "source": [
    "def give_pred():\n",
    "    a = {1,2,3}\n",
    "    b = [100,200,300]\n",
    "    return a,b\n",
    "\n",
    "x = give_pred()\n",
    "print(type(x))\n",
    "\n",
    "for i in x:\n",
    "    print(i)"
   ],
   "id": "3f6440a362521185",
   "outputs": [
    {
     "name": "stdout",
     "output_type": "stream",
     "text": [
      "<class 'tuple'>\n",
      "{1, 2, 3}\n",
      "[100, 200, 300]\n"
     ]
    }
   ],
   "execution_count": 29
  },
  {
   "metadata": {
    "ExecuteTime": {
     "end_time": "2025-10-14T16:33:37.982653Z",
     "start_time": "2025-10-14T16:33:37.979645Z"
    }
   },
   "cell_type": "code",
   "source": [
    "def give_pred():\n",
    "    return [1,2,3],[1, 2, 3]\n",
    "\n",
    "x,y = give_pred()\n",
    "print(type(x))"
   ],
   "id": "d6a3e9c594e0ccff",
   "outputs": [
    {
     "name": "stdout",
     "output_type": "stream",
     "text": [
      "<class 'list'>\n"
     ]
    }
   ],
   "execution_count": 30
  },
  {
   "metadata": {},
   "cell_type": "markdown",
   "source": [
    "Using *args (Arbitrary Positional Arguments)\n",
    "\n"
   ],
   "id": "1a4445edbbd450a4"
  },
  {
   "metadata": {},
   "cell_type": "code",
   "source": [
    "def square_addition(*args):\n",
    "    summation = 0\n",
    "    for i in args:\n",
    "        i = i**2\n",
    "        summation+=i\n",
    "    return summation\n",
    "print(square_addition(1,2,3)) # Output: 14"
   ],
   "id": "f727aac6799ebf0c",
   "outputs": [],
   "execution_count": null
  },
  {
   "metadata": {
    "ExecuteTime": {
     "end_time": "2025-10-14T15:57:56.448178Z",
     "start_time": "2025-10-14T15:57:56.445259Z"
    }
   },
   "cell_type": "code",
   "source": [
    "def my_func(greetings, *names):\n",
    "    for name in names:\n",
    "        print(f\"{greetings} {name}\")\n",
    "\n",
    "my_func(\"Hello\", \"Emil\", \"Tobias\", \"Linus\")\n"
   ],
   "id": "b46ed005a6fbc84f",
   "outputs": [
    {
     "name": "stdout",
     "output_type": "stream",
     "text": [
      "Hello Emil\n",
      "Hello Tobias\n",
      "Hello Linus\n"
     ]
    }
   ],
   "execution_count": 13
  },
  {
   "metadata": {},
   "cell_type": "markdown",
   "source": [
    "The *names parameter allows a function to accept any number of positional arguments.\n",
    "Inside the function, names becomes a tuple containing all the passed arguments:"
   ],
   "id": "eeb0d1d7ed345ffa"
  },
  {
   "metadata": {
    "ExecuteTime": {
     "end_time": "2025-10-14T16:03:03.907606Z",
     "start_time": "2025-10-14T16:03:03.904511Z"
    }
   },
   "cell_type": "code",
   "source": [
    "def my_func(greetings, *names):\n",
    "    print(type(names))\n",
    "    print(names[0])\n",
    "    print(names[1])\n",
    "\n",
    "my_func(\"Hello\", \"Emil\", \"Tobias\", \"Linus\")"
   ],
   "id": "96ff91163b3468a4",
   "outputs": [
    {
     "name": "stdout",
     "output_type": "stream",
     "text": [
      "<class 'tuple'>\n",
      "Emil\n",
      "Tobias\n"
     ]
    }
   ],
   "execution_count": 15
  },
  {
   "metadata": {},
   "cell_type": "markdown",
   "source": [
    "Using **kwargs (Arbitrary Keyword Arguments) If you do not know how many keyword arguments will be passed into your function, add two asterisks ** before the parameter name.\n",
    "This way, the function will receive a dictionary of arguments and can access the items accordingly:"
   ],
   "id": "3d55a11d8b375c24"
  },
  {
   "metadata": {
    "ExecuteTime": {
     "end_time": "2025-10-14T15:52:54.326190Z",
     "start_time": "2025-10-14T15:52:54.323508Z"
    }
   },
   "cell_type": "code",
   "source": [
    "def student(**kwargs):\n",
    "    for k,v in kwargs.items():\n",
    "        print(f\"{k} : {v}\")\n",
    "\n",
    "student(name = \"adil\" , cls = 10 , roll = 30 , marks = 30.5)\n"
   ],
   "id": "40ec11c450b27e76",
   "outputs": [
    {
     "name": "stdout",
     "output_type": "stream",
     "text": [
      "name : adil\n",
      "cls : 10\n",
      "roll : 30\n",
      "marks : 30.5\n"
     ]
    }
   ],
   "execution_count": 10
  },
  {
   "metadata": {
    "ExecuteTime": {
     "end_time": "2025-10-14T16:07:31.203117Z",
     "start_time": "2025-10-14T16:07:31.199914Z"
    }
   },
   "cell_type": "code",
   "source": [
    "def my_function(**myvar):\n",
    "  print(\"Type:\", type(myvar))\n",
    "  print(\"Name:\", myvar[\"name\"])\n",
    "  print(\"Age:\", myvar[\"age\"])\n",
    "  print(\"All data:\", myvar)\n",
    "\n",
    "my_function(name = \"Tobias\", age = 30, city = \"Bergen\")"
   ],
   "id": "4622e5a4f2a50bcb",
   "outputs": [
    {
     "name": "stdout",
     "output_type": "stream",
     "text": [
      "Type: <class 'dict'>\n",
      "Name: Tobias\n",
      "Age: 30\n",
      "All data: {'name': 'Tobias', 'age': 30, 'city': 'Bergen'}\n"
     ]
    }
   ],
   "execution_count": 16
  },
  {
   "metadata": {
    "ExecuteTime": {
     "end_time": "2025-10-14T16:10:52.910323Z",
     "start_time": "2025-10-14T16:10:52.906703Z"
    }
   },
   "cell_type": "code",
   "source": [
    "def func(username, **details):\n",
    "    print(\"Username:\", username)\n",
    "    print(\"Additional info\")\n",
    "    for k,v in details.items():\n",
    "        print(f\"{k} : {v}\")\n",
    "\n",
    "func(\"ahnaf\", age = 24, city = \"Dhaka\", hobby = \"coding\")"
   ],
   "id": "d774e970811be5d7",
   "outputs": [
    {
     "name": "stdout",
     "output_type": "stream",
     "text": [
      "Username: ahnaf\n",
      "Additional info\n",
      "age : 24\n",
      "city : Dhaka\n",
      "hobby : coding\n"
     ]
    }
   ],
   "execution_count": 18
  },
  {
   "metadata": {
    "ExecuteTime": {
     "end_time": "2025-10-14T16:12:17.981313Z",
     "start_time": "2025-10-14T16:12:17.978092Z"
    }
   },
   "cell_type": "code",
   "source": [
    "\n",
    "def func2(title, *args, **kwargs):\n",
    "    print(\"Title:\", title)\n",
    "    print(\"Positional arguments: \", args)\n",
    "    print(\"keyword arguments: \", kwargs)\n",
    "\n",
    "func2(\"User Info\", \"Emil\", \"Tobias\", age = 25, city = \"Oslo\")"
   ],
   "id": "23fdbfbf4753b346",
   "outputs": [
    {
     "name": "stdout",
     "output_type": "stream",
     "text": [
      "Title: User Info\n",
      "Positional arguments:  ('Emil', 'Tobias')\n",
      "keyword arguments:  {'age': 25, 'city': 'Oslo'}\n"
     ]
    }
   ],
   "execution_count": 20
  },
  {
   "metadata": {},
   "cell_type": "markdown",
   "source": "Unpacking Arguments",
   "id": "f6cb495c1c28922c"
  },
  {
   "metadata": {
    "ExecuteTime": {
     "end_time": "2025-10-14T16:14:47.287329Z",
     "start_time": "2025-10-14T16:14:47.284167Z"
    }
   },
   "cell_type": "code",
   "source": [
    "# Unpacking Lists with *\n",
    "\n",
    "def func_list(a,b,c):\n",
    "    return a + b + c\n",
    "\n",
    "nums = [1,2,3]\n",
    "res = func_list(*nums)\n",
    "print(res)"
   ],
   "id": "80116dd96765141a",
   "outputs": [
    {
     "name": "stdout",
     "output_type": "stream",
     "text": [
      "6\n"
     ]
    }
   ],
   "execution_count": 21
  },
  {
   "metadata": {
    "ExecuteTime": {
     "end_time": "2025-10-14T16:16:27.462694Z",
     "start_time": "2025-10-14T16:16:27.459513Z"
    }
   },
   "cell_type": "code",
   "source": [
    "# Unpacking Dictionaries with **\n",
    "def func_dict(fname, lname):\n",
    "    print(\"hello\", fname, lname)\n",
    "\n",
    "person = {\"fname\": \"Ahnaf\", \"lname\": \"Anan\"}\n",
    "func_dict(**person)"
   ],
   "id": "4711a17e66bf0f92",
   "outputs": [
    {
     "name": "stdout",
     "output_type": "stream",
     "text": [
      "hello Ahnaf Anan\n"
     ]
    }
   ],
   "execution_count": 22
  },
  {
   "metadata": {},
   "cell_type": "markdown",
   "source": "Iterator",
   "id": "b7c613fca198b8f4"
  },
  {
   "metadata": {
    "ExecuteTime": {
     "end_time": "2025-10-14T16:37:06.107762Z",
     "start_time": "2025-10-14T16:37:06.104674Z"
    }
   },
   "cell_type": "code",
   "source": [
    "s = {10 , 20 , 30 , 40 , 50 }\n",
    "s_iter = iter(s)\n",
    "print(next(s_iter))\n",
    "print(next(s_iter))\n",
    "print(next(s_iter))\n",
    "print(next(s_iter))\n",
    "print(next(s_iter))"
   ],
   "id": "df4f16d211d125cb",
   "outputs": [
    {
     "name": "stdout",
     "output_type": "stream",
     "text": [
      "50\n",
      "20\n",
      "40\n",
      "10\n",
      "30\n"
     ]
    }
   ],
   "execution_count": 34
  },
  {
   "metadata": {},
   "cell_type": "markdown",
   "source": "generator",
   "id": "6e20f2fbe8340423"
  },
  {
   "metadata": {
    "ExecuteTime": {
     "end_time": "2025-10-14T17:03:29.697252Z",
     "start_time": "2025-10-14T17:03:29.694036Z"
    }
   },
   "cell_type": "code",
   "source": [
    "lst = [x for x in range(100)] # dataset\n",
    "def data_loader(chunk, lst):\n",
    "    for i in range(0, len(lst), chunk):\n",
    "        yield lst[i:i + chunk]\n",
    "\n",
    "x = data_loader(5, lst)\n",
    "print(next(x))"
   ],
   "id": "6a432646c651b3d2",
   "outputs": [
    {
     "name": "stdout",
     "output_type": "stream",
     "text": [
      "[0, 1, 2, 3, 4]\n"
     ]
    }
   ],
   "execution_count": 36
  },
  {
   "metadata": {
    "ExecuteTime": {
     "end_time": "2025-10-14T17:18:14.202046Z",
     "start_time": "2025-10-14T17:18:14.198303Z"
    }
   },
   "cell_type": "code",
   "source": [
    "# This generator function yields numbers from 1 up to n, pausing after each yield and resuming where it left off on the next iteration. Generators are memory-efficient and ideal for processing large datasets or streams of data.\n",
    "def count_up_to(n):\n",
    "    count = 1\n",
    "    while count <= n:\n",
    "        yield count\n",
    "        count += 1\n",
    "\n",
    "for num in count_up_to(5):\n",
    "    print(num)"
   ],
   "id": "13b90de7707fd944",
   "outputs": [
    {
     "name": "stdout",
     "output_type": "stream",
     "text": [
      "1\n",
      "2\n",
      "3\n",
      "4\n",
      "5\n"
     ]
    }
   ],
   "execution_count": 38
  },
  {
   "metadata": {
    "ExecuteTime": {
     "end_time": "2025-10-15T15:40:58.760048Z",
     "start_time": "2025-10-15T15:40:58.756242Z"
    }
   },
   "cell_type": "code",
   "source": [
    "def powToGen(max=0):\n",
    "    n = 0\n",
    "    while n < max:\n",
    "        yield 2**n\n",
    "        n += 1\n",
    "res = powToGen(3)\n",
    "print(next(res))\n",
    "print(next(res))\n",
    "print(next(res))"
   ],
   "id": "6aba1e3ceda73804",
   "outputs": [
    {
     "name": "stdout",
     "output_type": "stream",
     "text": [
      "1\n",
      "2\n",
      "4\n"
     ]
    }
   ],
   "execution_count": 4
  },
  {
   "metadata": {},
   "cell_type": "markdown",
   "source": "lambda Function",
   "id": "4ec9e0e98e06ee3"
  },
  {
   "metadata": {},
   "cell_type": "code",
   "source": [
    "add = lambda x,y: x+y\n",
    "print(add(3,5)) # Output: 8"
   ],
   "id": "d59caac535d27bed",
   "outputs": [],
   "execution_count": null
  },
  {
   "metadata": {
    "ExecuteTime": {
     "end_time": "2025-10-14T18:10:24.247624Z",
     "start_time": "2025-10-14T18:10:24.237323Z"
    }
   },
   "cell_type": "code",
   "source": [
    "def square_addition(x,y):\n",
    "    return x**2 + y**2\n",
    "\n",
    "sqr_add = lambda x,y: x**2 + y**2\n",
    "print(sqr_add(1,2))"
   ],
   "id": "b9e4ec4e42b70158",
   "outputs": [
    {
     "name": "stdout",
     "output_type": "stream",
     "text": [
      "5\n"
     ]
    }
   ],
   "execution_count": 39
  },
  {
   "metadata": {
    "ExecuteTime": {
     "end_time": "2025-10-14T18:11:12.469948Z",
     "start_time": "2025-10-14T18:11:12.467036Z"
    }
   },
   "cell_type": "code",
   "source": [
    "is_even = lambda x: x%2==0\n",
    "print(is_even(3))"
   ],
   "id": "523aa7958dc08910",
   "outputs": [
    {
     "name": "stdout",
     "output_type": "stream",
     "text": [
      "False\n"
     ]
    }
   ],
   "execution_count": 40
  },
  {
   "metadata": {
    "ExecuteTime": {
     "end_time": "2025-10-14T18:19:42.583695Z",
     "start_time": "2025-10-14T18:19:42.580474Z"
    }
   },
   "cell_type": "code",
   "source": [
    "def my_func(n):\n",
    "    return lambda a : a * n\n",
    "\n",
    "res = my_func(2)\n",
    "print(res(11))"
   ],
   "id": "8b3571c80c18749c",
   "outputs": [
    {
     "name": "stdout",
     "output_type": "stream",
     "text": [
      "22\n"
     ]
    }
   ],
   "execution_count": 45
  },
  {
   "metadata": {},
   "cell_type": "markdown",
   "source": "Lambda with map",
   "id": "996e007e452cea81"
  },
  {
   "metadata": {},
   "cell_type": "markdown",
   "source": "map(function, iterable)",
   "id": "7cdbdb837eea0b9f"
  },
  {
   "metadata": {
    "ExecuteTime": {
     "end_time": "2025-10-15T15:57:16.336326Z",
     "start_time": "2025-10-15T15:57:16.333025Z"
    }
   },
   "cell_type": "code",
   "source": [
    "nums = [1,2,3,4,5]\n",
    "res = list(map(lambda x: x**2, nums))\n",
    "print(res)"
   ],
   "id": "f8e1e6a664265354",
   "outputs": [
    {
     "name": "stdout",
     "output_type": "stream",
     "text": [
      "[1, 4, 9, 16, 25]\n"
     ]
    }
   ],
   "execution_count": 8
  },
  {
   "metadata": {
    "ExecuteTime": {
     "end_time": "2025-10-15T16:23:35.668174Z",
     "start_time": "2025-10-15T16:23:35.665093Z"
    }
   },
   "cell_type": "code",
   "source": [
    "names = ['alice', 'bob', 'charlie']\n",
    "res = list(map(lambda x : x.upper(), names))\n",
    "print(res)"
   ],
   "id": "6522a8d1375d9c2d",
   "outputs": [
    {
     "name": "stdout",
     "output_type": "stream",
     "text": [
      "['ALICE', 'BOB', 'CHARLIE']\n"
     ]
    }
   ],
   "execution_count": 21
  },
  {
   "metadata": {
    "ExecuteTime": {
     "end_time": "2025-10-15T16:24:16.041781Z",
     "start_time": "2025-10-15T16:24:16.038675Z"
    }
   },
   "cell_type": "code",
   "source": [
    "words = ['python', 'lambda', 'map', 'filter']\n",
    "res = list(map(lambda x: len(x), words))\n",
    "print(res)"
   ],
   "id": "cd31ccc1e359e758",
   "outputs": [
    {
     "name": "stdout",
     "output_type": "stream",
     "text": [
      "[6, 6, 3, 6]\n"
     ]
    }
   ],
   "execution_count": 22
  },
  {
   "metadata": {
    "ExecuteTime": {
     "end_time": "2025-10-15T16:25:05.823107Z",
     "start_time": "2025-10-15T16:25:05.819782Z"
    }
   },
   "cell_type": "code",
   "source": [
    "names = ['Alice', 'Bob', 'Charlie']\n",
    "res = list(map(lambda x: f\"hello {x}\", names))\n",
    "print(res)"
   ],
   "id": "19c1c335e57e10eb",
   "outputs": [
    {
     "name": "stdout",
     "output_type": "stream",
     "text": [
      "['hello Alice', 'hello Bob', 'hello Charlie']\n"
     ]
    }
   ],
   "execution_count": 23
  },
  {
   "metadata": {
    "ExecuteTime": {
     "end_time": "2025-10-15T16:27:07.810397Z",
     "start_time": "2025-10-15T16:27:07.806936Z"
    }
   },
   "cell_type": "code",
   "source": [
    "list1 = [1, 2, 3, 4]\n",
    "list2 = [10, 20, 30, 40]\n",
    "res = list(map(lambda x,y:x+y, list1, list2))\n",
    "print(res)"
   ],
   "id": "405d1177fd6d9731",
   "outputs": [
    {
     "name": "stdout",
     "output_type": "stream",
     "text": [
      "[11, 22, 33, 44]\n"
     ]
    }
   ],
   "execution_count": 24
  },
  {
   "metadata": {
    "ExecuteTime": {
     "end_time": "2025-10-15T16:28:06.134174Z",
     "start_time": "2025-10-15T16:28:06.130953Z"
    }
   },
   "cell_type": "code",
   "source": [
    "prices = [10, 20, 30, 40]\n",
    "quantities = [2, 3, 1, 4]\n",
    "res = list(map(lambda x,y:x*y, prices, quantities))\n",
    "print(res)"
   ],
   "id": "59eee5504bc87b3e",
   "outputs": [
    {
     "name": "stdout",
     "output_type": "stream",
     "text": [
      "[20, 60, 30, 160]\n"
     ]
    }
   ],
   "execution_count": 25
  },
  {
   "metadata": {
    "ExecuteTime": {
     "end_time": "2025-10-15T16:30:22.287483Z",
     "start_time": "2025-10-15T16:30:22.284217Z"
    }
   },
   "cell_type": "code",
   "source": [
    "nums = ['1', '2', '3', '4', '5']\n",
    "num_int = list(map(lambda x: int(x), nums))\n",
    "print(num_int)"
   ],
   "id": "c4903d68c27b692a",
   "outputs": [
    {
     "name": "stdout",
     "output_type": "stream",
     "text": [
      "[1, 2, 3, 4, 5]\n"
     ]
    }
   ],
   "execution_count": 26
  },
  {
   "metadata": {
    "ExecuteTime": {
     "end_time": "2025-10-15T16:31:56.380314Z",
     "start_time": "2025-10-15T16:31:56.377410Z"
    }
   },
   "cell_type": "code",
   "source": [
    "prices = ['10.567', '20.893', '30.125']\n",
    "res = list(map(lambda x :round(float(x),2), prices))\n",
    "print(res)"
   ],
   "id": "63d4f8de83d31b82",
   "outputs": [
    {
     "name": "stdout",
     "output_type": "stream",
     "text": [
      "[10.57, 20.89, 30.12]\n"
     ]
    }
   ],
   "execution_count": 28
  },
  {
   "metadata": {
    "ExecuteTime": {
     "end_time": "2025-10-15T16:33:40.294298Z",
     "start_time": "2025-10-15T16:33:40.290956Z"
    }
   },
   "cell_type": "code",
   "source": [
    "students = [('Alice', 85), ('Bob', 92), ('Charlie', 78)]\n",
    "names = list(map(lambda x: x[0], students))\n",
    "marks = list(map(lambda x: x[1], students))\n",
    "print(names)\n",
    "print(marks)"
   ],
   "id": "d41f1eb829c601ed",
   "outputs": [
    {
     "name": "stdout",
     "output_type": "stream",
     "text": [
      "['Alice', 'Bob', 'Charlie']\n",
      "[85, 92, 78]\n"
     ]
    }
   ],
   "execution_count": 29
  },
  {
   "metadata": {
    "ExecuteTime": {
     "end_time": "2025-10-15T16:36:47.903649Z",
     "start_time": "2025-10-15T16:36:47.900089Z"
    }
   },
   "cell_type": "code",
   "source": [
    "scores = [85, 92, 78, 65, 90]\n",
    "res = list(map(lambda x: 'A' if x >= 90\n",
    "               else 'B'\n",
    "               if x >= 80 else 'C'\n",
    "               if x >= 70 else 'D', scores))\n",
    "print(res)"
   ],
   "id": "48fabba919788357",
   "outputs": [
    {
     "name": "stdout",
     "output_type": "stream",
     "text": [
      "['B', 'A', 'C', 'D', 'A']\n"
     ]
    }
   ],
   "execution_count": 30
  },
  {
   "metadata": {
    "ExecuteTime": {
     "end_time": "2025-10-15T16:38:55.276474Z",
     "start_time": "2025-10-15T16:38:55.273039Z"
    }
   },
   "cell_type": "code",
   "source": [
    "users = [\n",
    "    {'name': 'Alice', 'age': 30},\n",
    "    {'name': 'Bob', 'age': 25},\n",
    "    {'name': 'Charlie', 'age': 35}\n",
    "]\n",
    "\n",
    "names = list(map(lambda x: x['name'], users))\n",
    "ages = list(map(lambda x: x['age'], users))\n",
    "print(names)\n",
    "print(ages)"
   ],
   "id": "46a58341160a3464",
   "outputs": [
    {
     "name": "stdout",
     "output_type": "stream",
     "text": [
      "['Alice', 'Bob', 'Charlie']\n",
      "[30, 25, 35]\n"
     ]
    }
   ],
   "execution_count": 32
  },
  {
   "metadata": {},
   "cell_type": "code",
   "outputs": [],
   "execution_count": null,
   "source": [
    "prices_usd = [100, 200, 300]\n",
    "exchange_rate = 1.35\n",
    "\n",
    "res = list(map(lambda x: round(x * exchange_rate, 2),prices_usd))\n",
    "print(res)"
   ],
   "id": "baa7b9dafe89543e"
  },
  {
   "metadata": {},
   "cell_type": "code",
   "outputs": [],
   "execution_count": null,
   "source": [
    "celsius = [0, 10, 20, 30, 40]\n",
    "fahrenheit = list(map(lambda c: (c * 9/5) + 32, celsius))\n",
    "print(fahrenheit)\n",
    "# Output: [32.0, 50.0, 68.0, 86.0, 104.0]"
   ],
   "id": "2d40ba0b1aa82612"
  },
  {
   "metadata": {},
   "cell_type": "code",
   "outputs": [],
   "execution_count": null,
   "source": [
    "emails = ['test@example.com', 'invalid', 'user@domain.com']\n",
    "has_at = list(map(lambda x: '@' in x, emails))\n",
    "print(has_at)\n",
    "# Output: [True, False, True]"
   ],
   "id": "5fa7afb214489157"
  },
  {
   "metadata": {},
   "cell_type": "markdown",
   "source": "Lambda with filter\n",
   "id": "544e5a321062d63c"
  },
  {
   "metadata": {
    "ExecuteTime": {
     "end_time": "2025-10-15T15:59:53.098630Z",
     "start_time": "2025-10-15T15:59:53.095605Z"
    }
   },
   "cell_type": "code",
   "source": [
    "nums = [1,2,3,4,5,6,7,8]\n",
    "odds = list(filter(lambda x: x%2!=0, nums))\n",
    "print(odds)"
   ],
   "id": "1a0a41998f3a854",
   "outputs": [
    {
     "name": "stdout",
     "output_type": "stream",
     "text": [
      "[1, 3, 5, 7]\n"
     ]
    }
   ],
   "execution_count": 10
  },
  {
   "metadata": {},
   "cell_type": "code",
   "outputs": [],
   "execution_count": null,
   "source": [
    "numbers = [5, 15, 25, 35, 45, 55]\n",
    "in_range = list(filter(lambda x: 10 <= x <= 40, numbers))\n",
    "print(in_range)\n",
    "# Output: [15, 25, 35]"
   ],
   "id": "f13be164781df8"
  },
  {
   "metadata": {},
   "cell_type": "code",
   "outputs": [],
   "execution_count": null,
   "source": [
    "words = ['cat', 'elephant', 'dog', 'butterfly', 'ant']\n",
    "long_words = list(filter(lambda x: len(x) > 5, words))\n",
    "print(long_words)\n",
    "# Output: ['elephant', 'butterfly']"
   ],
   "id": "53acf30704d6c051"
  },
  {
   "metadata": {},
   "cell_type": "code",
   "outputs": [],
   "execution_count": null,
   "source": [
    "names = ['Alice', 'Bob', 'Andrew', 'Charlie', 'Anna']\n",
    "starts_with_a = list(filter(lambda x: x.startswith('A'), names))\n",
    "print(starts_with_a)\n",
    "# Output: ['Alice', 'Andrew', 'Anna']"
   ],
   "id": "173db5efab221b23"
  },
  {
   "metadata": {},
   "cell_type": "code",
   "outputs": [],
   "execution_count": null,
   "source": [
    "emails = ['alice@gmail.com', 'bob@yahoo.com', 'charlie@gmail.com', 'david@hotmail.com']\n",
    "gmail_users = list(filter(lambda x: 'gmail' in x, emails))\n",
    "print(gmail_users)\n",
    "# Output: ['alice@gmail.com', 'charlie@gmail.com']"
   ],
   "id": "74b9f17b99b8b7f8"
  },
  {
   "metadata": {},
   "cell_type": "code",
   "source": [
    "strings = ['hello', '', 'world', '', 'python', '   ']\n",
    "non_empty = list(filter(lambda x: x.strip() != '', strings))\n",
    "print(non_empty)\n",
    "# Output: ['hello', 'world', 'python']\n",
    "\n",
    "# Alternative (more Pythonic):\n",
    "non_empty = list(filter(lambda x: x.strip(), strings))\n",
    "print(non_empty)\n",
    "# Output: ['hello', 'world', 'python']\n"
   ],
   "id": "5c93ee1384f7bdf",
   "outputs": [],
   "execution_count": null
  },
  {
   "metadata": {},
   "cell_type": "code",
   "outputs": [],
   "execution_count": null,
   "source": [
    "students = [\n",
    "    ('Alice', 85),\n",
    "    ('Bob', 92),\n",
    "    ('Charlie', 78),\n",
    "    ('David', 65),\n",
    "    ('Eve', 90)\n",
    "]\n",
    "\n",
    "# Students who passed (score >= 80)\n",
    "passed = list(filter(lambda x: x[1] >= 80, students))\n",
    "print(passed)\n",
    "# Output: [('Alice', 85), ('Bob', 92), ('Eve', 90)]"
   ],
   "id": "4e99d3c78ef43470"
  },
  {
   "metadata": {},
   "cell_type": "code",
   "outputs": [],
   "execution_count": null,
   "source": [
    "products = [\n",
    "    {'name': 'Laptop', 'price': 1200, 'in_stock': True},\n",
    "    {'name': 'Mouse', 'price': 25, 'in_stock': False},\n",
    "    {'name': 'Keyboard', 'price': 75, 'in_stock': True},\n",
    "    {'name': 'Monitor', 'price': 300, 'in_stock': True}\n",
    "]\n",
    "\n",
    "# Products in stock and price < 500\n",
    "affordable_in_stock = list(filter(\n",
    "    lambda x: x['in_stock'] and x['price'] < 500,\n",
    "    products\n",
    "))\n",
    "print(affordable_in_stock)\n",
    "# Output: [{'name': 'Keyboard', 'price': 75, 'in_stock': True},\n",
    "#          {'name': 'Monitor', 'price': 300, 'in_stock': True}]"
   ],
   "id": "d9310dc1118dfbc8"
  },
  {
   "metadata": {},
   "cell_type": "code",
   "outputs": [],
   "execution_count": null,
   "source": [
    "mixed = [1, 'hello', 3.5, 42, 'world', True, None, 99]\n",
    "integers = list(filter(lambda x: isinstance(x, int) and not isinstance(x, bool), mixed))\n",
    "print(integers)\n",
    "# Output: [1, 42, 99]"
   ],
   "id": "940223525808f74e"
  },
  {
   "metadata": {},
   "cell_type": "code",
   "outputs": [],
   "execution_count": null,
   "source": [
    "data = [1, None, 3, None, 5, 0, '', 7]\n",
    "non_none = list(filter(lambda x: x is not None, data))\n",
    "print(non_none)\n",
    "# Output: [1, 3, 5, 0, '', 7]"
   ],
   "id": "8b01041649a07909"
  },
  {
   "metadata": {},
   "cell_type": "code",
   "outputs": [],
   "execution_count": null,
   "source": [
    "emails = [\n",
    "    'user@example.com',\n",
    "    'invalid-email',\n",
    "    'another@domain.co.uk',\n",
    "    'no-at-sign.com',\n",
    "    '@invalid.com'\n",
    "]\n",
    "\n",
    "valid_emails = list(filter(\n",
    "    lambda x: '@' in x and '.' in x.split('@')[1] if '@' in x else False,\n",
    "    emails\n",
    "))\n",
    "print(valid_emails)\n",
    "# Output: ['user@example.com', 'another@domain.co.uk']"
   ],
   "id": "3987ab3adca0c76e"
  },
  {
   "metadata": {
    "ExecuteTime": {
     "end_time": "2025-10-16T07:11:02.539541Z",
     "start_time": "2025-10-16T07:11:02.533504Z"
    }
   },
   "cell_type": "code",
   "source": [
    "products = [\n",
    "    {'name': 'Widget A', 'price': 10.99},\n",
    "    {'name': 'Widget B', 'price': 25.50},\n",
    "    {'name': 'Widget C', 'price': 5.99},\n",
    "    {'name': 'Widget D', 'price': 50.00}\n",
    "]\n",
    "\n",
    "res = list(filter(lambda x:  5 <= x['price'] <= 30, products))\n",
    "print(res)"
   ],
   "id": "4ab1d9df383074aa",
   "outputs": [
    {
     "name": "stdout",
     "output_type": "stream",
     "text": [
      "[{'name': 'Widget A', 'price': 10.99}, {'name': 'Widget B', 'price': 25.5}, {'name': 'Widget C', 'price': 5.99}]\n"
     ]
    }
   ],
   "execution_count": 1
  },
  {
   "metadata": {
    "ExecuteTime": {
     "end_time": "2025-10-16T07:25:52.531794Z",
     "start_time": "2025-10-16T07:25:52.528771Z"
    }
   },
   "cell_type": "code",
   "source": [
    "words = ['radar', 'hello', 'level', 'world', 'noon', 'python']\n",
    "res = list(filter(lambda x: x == x[::-1], words))\n",
    "print(res)"
   ],
   "id": "fbd3e5920be214c8",
   "outputs": [
    {
     "name": "stdout",
     "output_type": "stream",
     "text": [
      "['radar', 'level', 'noon']\n"
     ]
    }
   ],
   "execution_count": 5
  },
  {
   "metadata": {
    "ExecuteTime": {
     "end_time": "2025-10-16T07:28:06.367353Z",
     "start_time": "2025-10-16T07:28:06.364321Z"
    }
   },
   "cell_type": "code",
   "source": [
    "numbers = [1, 2, 3, 2, 4, 1, 5, 3, 6]\n",
    "s = set()\n",
    "res = list(filter(lambda x: not(x in s or s.add(x)), numbers))\n",
    "print(res)"
   ],
   "id": "268a651243eb4737",
   "outputs": [
    {
     "name": "stdout",
     "output_type": "stream",
     "text": [
      "[1, 2, 3, 4, 5, 6]\n"
     ]
    }
   ],
   "execution_count": 8
  },
  {
   "metadata": {},
   "cell_type": "code",
   "outputs": [],
   "execution_count": null,
   "source": [
    "items = ['a', 'b', 'c', 'd', 'e', 'f']\n",
    "# Keep only even indices\n",
    "even_index_items = list(filter(lambda x: items.index(x) % 2 == 0, items))\n",
    "print(even_index_items)\n",
    "# Output: ['a', 'c', 'e']"
   ],
   "id": "722a7ac690acd8b6"
  },
  {
   "metadata": {
    "ExecuteTime": {
     "end_time": "2025-10-16T07:34:05.650550Z",
     "start_time": "2025-10-16T07:34:05.647446Z"
    }
   },
   "cell_type": "code",
   "source": [
    "blacklist = ['spam', 'scam', 'fake']\n",
    "messages = ['hello', 'spam alert', 'genuine offer', 'scam warning', 'real deal']\n",
    "\n",
    "res = list(filter(\n",
    "    lambda x: not any(bad in x.lower() for bad in blacklist), messages\n",
    "))\n",
    "\n",
    "print(res)"
   ],
   "id": "66f5c6bce1dd758d",
   "outputs": [
    {
     "name": "stdout",
     "output_type": "stream",
     "text": [
      "['hello', 'genuine offer', 'real deal']\n"
     ]
    }
   ],
   "execution_count": 11
  },
  {
   "metadata": {},
   "cell_type": "markdown",
   "source": "Combining filter() and map()",
   "id": "36e3061a2f3b968e"
  },
  {
   "metadata": {
    "ExecuteTime": {
     "end_time": "2025-10-16T07:19:30.544789Z",
     "start_time": "2025-10-16T07:19:30.541745Z"
    }
   },
   "cell_type": "code",
   "source": [
    "numbers = [1, 2, 3, 4, 5, 6, 7, 8, 9, 10]\n",
    "res = list(map(lambda x: x**2, filter(lambda x: x%2==0, numbers)))\n",
    "print(res)"
   ],
   "id": "e41dca009b2fa8ad",
   "outputs": [
    {
     "name": "stdout",
     "output_type": "stream",
     "text": [
      "[4, 16, 36, 64, 100]\n"
     ]
    }
   ],
   "execution_count": 2
  },
  {
   "metadata": {
    "ExecuteTime": {
     "end_time": "2025-10-16T07:21:04.607924Z",
     "start_time": "2025-10-16T07:21:04.604545Z"
    }
   },
   "cell_type": "code",
   "source": [
    "students = [\n",
    "    ('Alice', 85),\n",
    "    ('Bob', 92),\n",
    "    ('Charlie', 78),\n",
    "    ('David', 65),\n",
    "    ('Eve', 90)\n",
    "]\n",
    "\n",
    "res = list(map(lambda x: x[0], filter(lambda x: x[1] >= 80, students)))\n",
    "print(res)"
   ],
   "id": "3f009e57edd5ffba",
   "outputs": [
    {
     "name": "stdout",
     "output_type": "stream",
     "text": [
      "['Alice', 'Bob', 'Eve']\n"
     ]
    }
   ],
   "execution_count": 3
  },
  {
   "metadata": {},
   "cell_type": "code",
   "outputs": [],
   "execution_count": null,
   "source": [
    "def is_eligible_user(user):\n",
    "    \"\"\"Check if user meets eligibility criteria.\"\"\"\n",
    "    return (\n",
    "        user['status'] == 'active' and\n",
    "        user['age'] > 18 and\n",
    "        user['country'] in ['US', 'UK'] and\n",
    "        user['verified']\n",
    "    )\n",
    "\n",
    "result = list(filter(is_eligible_user, users))"
   ],
   "id": "5a0030809b2639fa"
  },
  {
   "metadata": {},
   "cell_type": "markdown",
   "source": "Lambda with sorted()\n",
   "id": "4a596d935827bdd1"
  },
  {
   "metadata": {
    "ExecuteTime": {
     "end_time": "2025-10-15T16:18:34.441567Z",
     "start_time": "2025-10-15T16:18:34.438834Z"
    }
   },
   "cell_type": "code",
   "source": "students = [(\"Emil\", 25), (\"Tobias\", 22), (\"Linus\", 28)]",
   "id": "725a6dd3aac195c",
   "outputs": [],
   "execution_count": 16
  },
  {
   "metadata": {
    "ExecuteTime": {
     "end_time": "2025-10-15T16:19:07.947878Z",
     "start_time": "2025-10-15T16:19:07.944977Z"
    }
   },
   "cell_type": "code",
   "source": [
    "# Sort by name (default behavior)\n",
    "sorted_students = sorted(students)\n",
    "print(sorted_students)"
   ],
   "id": "78030a4d427ad8f1",
   "outputs": [
    {
     "name": "stdout",
     "output_type": "stream",
     "text": [
      "[('Emil', 25), ('Linus', 28), ('Tobias', 22)]\n"
     ]
    }
   ],
   "execution_count": 18
  },
  {
   "metadata": {
    "ExecuteTime": {
     "end_time": "2025-10-15T16:19:41.909460Z",
     "start_time": "2025-10-15T16:19:41.906425Z"
    }
   },
   "cell_type": "code",
   "source": [
    "# Sort by age in descending order\n",
    "sorted_students = sorted(students, key=lambda x: x[1], reverse=True)\n",
    "print(sorted_students)"
   ],
   "id": "f014398ca3ca02f2",
   "outputs": [
    {
     "name": "stdout",
     "output_type": "stream",
     "text": [
      "[('Linus', 28), ('Emil', 25), ('Tobias', 22)]\n"
     ]
    }
   ],
   "execution_count": 19
  },
  {
   "metadata": {
    "ExecuteTime": {
     "end_time": "2025-10-15T16:20:13.322851Z",
     "start_time": "2025-10-15T16:20:13.319694Z"
    }
   },
   "cell_type": "code",
   "source": [
    "# Multi-level sorting (by age, then by name)\n",
    "sorted_students = sorted(students, key=lambda x: (x[1], x[0]))\n",
    "print(sorted_students)"
   ],
   "id": "86c66b27b43cbc07",
   "outputs": [
    {
     "name": "stdout",
     "output_type": "stream",
     "text": [
      "[('Tobias', 22), ('Emil', 25), ('Linus', 28)]\n"
     ]
    }
   ],
   "execution_count": 20
  },
  {
   "metadata": {
    "ExecuteTime": {
     "end_time": "2025-10-15T16:18:39.102222Z",
     "start_time": "2025-10-15T16:18:39.099258Z"
    }
   },
   "cell_type": "code",
   "source": [
    "sorted_std = sorted(students, key=lambda x:x[1])\n",
    "print(sorted_std)"
   ],
   "id": "4c06be7977f6633f",
   "outputs": [
    {
     "name": "stdout",
     "output_type": "stream",
     "text": [
      "[('Tobias', 22), ('Emil', 25), ('Linus', 28)]\n"
     ]
    }
   ],
   "execution_count": 17
  },
  {
   "metadata": {
    "ExecuteTime": {
     "end_time": "2025-10-15T16:14:49.962462Z",
     "start_time": "2025-10-15T16:14:49.959531Z"
    }
   },
   "cell_type": "code",
   "source": [
    "def get_age(student):\n",
    "    return student[1]\n",
    "\n",
    "sorted_res = sorted(students, key=get_age)\n",
    "print(sorted_res)"
   ],
   "id": "6e26540817243494",
   "outputs": [
    {
     "name": "stdout",
     "output_type": "stream",
     "text": [
      "[('Tobias', 22), ('Emil', 25), ('Linus', 28)]\n"
     ]
    }
   ],
   "execution_count": 15
  },
  {
   "metadata": {},
   "cell_type": "markdown",
   "source": "reduce\n",
   "id": "204f1d880c90f3c1"
  },
  {
   "metadata": {
    "ExecuteTime": {
     "end_time": "2025-10-16T07:43:19.269642Z",
     "start_time": "2025-10-16T07:43:19.266823Z"
    }
   },
   "cell_type": "code",
   "source": [
    "from functools import reduce\n",
    "lst = [1,2,3,4,5,6]\n",
    "res = reduce(lambda x,y:x+y, lst)\n",
    "print(res)"
   ],
   "id": "b9ca82e08f19966c",
   "outputs": [
    {
     "name": "stdout",
     "output_type": "stream",
     "text": [
      "21\n"
     ]
    }
   ],
   "execution_count": 12
  },
  {
   "metadata": {
    "ExecuteTime": {
     "end_time": "2025-10-16T07:45:18.139251Z",
     "start_time": "2025-10-16T07:45:18.136181Z"
    }
   },
   "cell_type": "code",
   "source": [
    "res = reduce(lambda x,y: x if x > y else y, lst)\n",
    "print(res)"
   ],
   "id": "35900aa03693c9fc",
   "outputs": [
    {
     "name": "stdout",
     "output_type": "stream",
     "text": [
      "6\n"
     ]
    }
   ],
   "execution_count": 15
  },
  {
   "metadata": {},
   "cell_type": "code",
   "outputs": [],
   "execution_count": null,
   "source": "",
   "id": "3de1387ee7d7a70d"
  }
 ],
 "metadata": {
  "kernelspec": {
   "display_name": "Python 3",
   "language": "python",
   "name": "python3"
  },
  "language_info": {
   "codemirror_mode": {
    "name": "ipython",
    "version": 2
   },
   "file_extension": ".py",
   "mimetype": "text/x-python",
   "name": "python",
   "nbconvert_exporter": "python",
   "pygments_lexer": "ipython2",
   "version": "2.7.6"
  }
 },
 "nbformat": 4,
 "nbformat_minor": 5
}
