{
 "cells": [
  {
   "metadata": {},
   "cell_type": "markdown",
   "source": "File Read",
   "id": "e56e796ec7377d89"
  },
  {
   "cell_type": "code",
   "id": "initial_id",
   "metadata": {
    "collapsed": true,
    "ExecuteTime": {
     "end_time": "2025-10-17T06:02:06.399435Z",
     "start_time": "2025-10-17T06:02:06.396301Z"
    }
   },
   "source": [
    "# Basic file opening\n",
    "file = open('example.txt', 'r')  # Read mode\n",
    "file = open('example.txt', 'w')  # Write mode (overwrites)\n",
    "file = open('example.txt', 'a')  # Append mode\n",
    "file = open('example.txt', 'r+') # Read and write\n",
    "\n",
    "# Better practice: using context manager (automatically closes file)\n",
    "with open('example.txt', 'r') as file:\n",
    "    content = file.read()"
   ],
   "outputs": [
    {
     "name": "stdout",
     "output_type": "stream",
     "text": [
      "hello world\n"
     ]
    }
   ],
   "execution_count": 2
  },
  {
   "metadata": {},
   "cell_type": "markdown",
   "source": [
    "Common File Modes\n",
    "\n",
    "'r' - Read (default) ||\n",
    "'w' - Write (creates new or overwrites) ||\n",
    "'a' - Append (adds to end) ||\n",
    "'x' - Exclusive creation (fails if file exists) ||\n",
    "'b' - Binary mode (e.g., 'rb', 'wb') ||\n",
    "'t' - Text mode (default) ||\n",
    "'+' - Read and write (e.g., 'r+', 'w+')"
   ],
   "id": "59df8195d4230f32"
  },
  {
   "metadata": {},
   "cell_type": "markdown",
   "source": "Reading Methods\n",
   "id": "f027bcd2a8570b3f"
  },
  {
   "metadata": {
    "ExecuteTime": {
     "end_time": "2025-10-17T06:07:53.600423Z",
     "start_time": "2025-10-17T06:07:53.597152Z"
    }
   },
   "cell_type": "code",
   "source": [
    "with open(\"./sample/sample.txt\", \"r\") as file:\n",
    "    res = file.read()\n",
    "    print(res)"
   ],
   "id": "54f9ae2e640a8c0c",
   "outputs": [
    {
     "name": "stdout",
     "output_type": "stream",
     "text": [
      "hello world\n",
      "welcome to programming\n"
     ]
    }
   ],
   "execution_count": 8
  },
  {
   "metadata": {
    "ExecuteTime": {
     "end_time": "2025-10-17T06:07:56.545510Z",
     "start_time": "2025-10-17T06:07:56.542246Z"
    }
   },
   "cell_type": "code",
   "source": [
    "with open(\"./sample/sample.txt\", \"r\") as file:\n",
    "    res = file.read(5)\n",
    "    print(res)"
   ],
   "id": "83e76585ff99bca1",
   "outputs": [
    {
     "name": "stdout",
     "output_type": "stream",
     "text": [
      "hello\n"
     ]
    }
   ],
   "execution_count": 9
  },
  {
   "metadata": {
    "ExecuteTime": {
     "end_time": "2025-10-17T06:09:01.015016Z",
     "start_time": "2025-10-17T06:09:01.011899Z"
    }
   },
   "cell_type": "code",
   "source": [
    "with open(\"./sample/sample.txt\", \"r\") as file:\n",
    "    l1 = file.readline()\n",
    "    l2 = file.readline()\n",
    "    print(l1,l2)\n"
   ],
   "id": "a2da69a00b726b6f",
   "outputs": [
    {
     "name": "stdout",
     "output_type": "stream",
     "text": [
      "hello world\n",
      " welcome to programming\n"
     ]
    }
   ],
   "execution_count": 10
  },
  {
   "metadata": {},
   "cell_type": "markdown",
   "source": "readlines() - Read all lines into a list",
   "id": "1c0acc5d9e2c31c1"
  },
  {
   "metadata": {
    "ExecuteTime": {
     "end_time": "2025-10-17T06:10:51.799145Z",
     "start_time": "2025-10-17T06:10:51.796395Z"
    }
   },
   "cell_type": "code",
   "source": [
    "with open(\"./sample/sample.txt\", \"r\") as file:\n",
    "    lines = file.readlines()\n",
    "    for l in lines:\n",
    "        print(l.strip())"
   ],
   "id": "248dd0a6cce1928b",
   "outputs": [
    {
     "name": "stdout",
     "output_type": "stream",
     "text": [
      "hello world\n",
      "welcome to programming\n"
     ]
    }
   ],
   "execution_count": 13
  },
  {
   "metadata": {},
   "cell_type": "markdown",
   "source": "Iterating over file (memory efficient)",
   "id": "7716f95c0bf8d087"
  },
  {
   "metadata": {
    "ExecuteTime": {
     "end_time": "2025-10-17T06:13:42.067147Z",
     "start_time": "2025-10-17T06:13:42.064171Z"
    }
   },
   "cell_type": "code",
   "source": [
    "with open(\"./sample/sample.txt\", \"r\") as file:\n",
    "    for line in file:\n",
    "        print(line.strip())"
   ],
   "id": "ddd5cbe2831171e7",
   "outputs": [
    {
     "name": "stdout",
     "output_type": "stream",
     "text": [
      "hello world\n",
      "welcome to programming\n"
     ]
    }
   ],
   "execution_count": 14
  },
  {
   "metadata": {
    "ExecuteTime": {
     "end_time": "2025-10-17T06:17:21.778044Z",
     "start_time": "2025-10-17T06:17:21.774924Z"
    }
   },
   "cell_type": "code",
   "source": [
    "with open(\"./sample/sample.txt\", \"r\") as file:\n",
    "    res = file.readlines()\n",
    "    res = list(map(str.strip, res))\n",
    "    print(res) # Output: ['hello world', 'welcome to programming']\n",
    "\n",
    "    filter_res = list(filter(lambda l: len(l) >= 1, res))\n",
    "    print(filter_res)"
   ],
   "id": "467ef23a99278c67",
   "outputs": [
    {
     "name": "stdout",
     "output_type": "stream",
     "text": [
      "['hello world', 'welcome to programming']\n",
      "['hello world', 'welcome to programming']\n"
     ]
    }
   ],
   "execution_count": 17
  },
  {
   "metadata": {
    "ExecuteTime": {
     "end_time": "2025-10-17T06:19:56.977159Z",
     "start_time": "2025-10-17T06:19:56.975045Z"
    }
   },
   "cell_type": "markdown",
   "source": "File Write",
   "id": "2d544656560d7dde"
  },
  {
   "metadata": {
    "ExecuteTime": {
     "end_time": "2025-10-17T06:24:03.841994Z",
     "start_time": "2025-10-17T06:24:03.839108Z"
    }
   },
   "cell_type": "code",
   "source": [
    "with open(\"./sample/sample_w.txt\", \"w\") as file:\n",
    "    file.write(\"Hello World!\\n\")\n",
    "    file.write(\"There is a new line.\")"
   ],
   "id": "5c7091ab9303d8cb",
   "outputs": [],
   "execution_count": 23
  },
  {
   "metadata": {
    "ExecuteTime": {
     "end_time": "2025-10-17T06:24:11.147653Z",
     "start_time": "2025-10-17T06:24:11.143810Z"
    }
   },
   "cell_type": "code",
   "source": [
    "with open(\"./sample/sample_w.txt\", \"r\") as file:\n",
    "    res = file.read()\n",
    "    print(res)"
   ],
   "id": "8ebeaf91eb266ba6",
   "outputs": [
    {
     "name": "stdout",
     "output_type": "stream",
     "text": [
      "Hello World!\n",
      "There is a new line.\n"
     ]
    }
   ],
   "execution_count": 24
  },
  {
   "metadata": {
    "ExecuteTime": {
     "end_time": "2025-10-17T09:07:26.729115Z",
     "start_time": "2025-10-17T09:07:26.726263Z"
    }
   },
   "cell_type": "code",
   "source": [
    "lines = ['First line\\n', 'Second line\\n', 'Third line\\n']\n",
    "with open(\"./sample/sample_w.txt\", \"w\") as file:\n",
    "    file.writelines(lines)"
   ],
   "id": "4b8617c0ca92654",
   "outputs": [],
   "execution_count": 26
  },
  {
   "metadata": {},
   "cell_type": "markdown",
   "source": "Append mode",
   "id": "7a798f4d29761817"
  },
  {
   "metadata": {
    "ExecuteTime": {
     "end_time": "2025-10-17T09:10:41.615547Z",
     "start_time": "2025-10-17T09:10:41.611854Z"
    }
   },
   "cell_type": "code",
   "source": [
    "with open(\"./sample/sample_a.txt\", \"a\") as file:\n",
    "    file.write(\"Append Text\")"
   ],
   "id": "35d1057d47ad277",
   "outputs": [],
   "execution_count": 1
  },
  {
   "metadata": {},
   "cell_type": "markdown",
   "source": "File position methods",
   "id": "b68c5f74fa1c9f77"
  },
  {
   "metadata": {
    "ExecuteTime": {
     "end_time": "2025-10-17T09:13:28.271515Z",
     "start_time": "2025-10-17T09:13:28.268301Z"
    }
   },
   "cell_type": "code",
   "source": [
    "with open(\"./sample/sample.txt\", \"r\") as file:\n",
    "    file.read(6)\n",
    "    pos = file.tell()\n",
    "\n",
    "    print(pos)"
   ],
   "id": "e8767dc60e63c289",
   "outputs": [
    {
     "name": "stdout",
     "output_type": "stream",
     "text": [
      "6\n"
     ]
    }
   ],
   "execution_count": 3
  },
  {
   "metadata": {
    "ExecuteTime": {
     "end_time": "2025-10-17T09:43:24.053762Z",
     "start_time": "2025-10-17T09:43:24.050500Z"
    }
   },
   "cell_type": "code",
   "source": [
    "with open(\"./sample/sample.txt\", \"r\") as file:\n",
    "    file.seek(5)\n",
    "    res = file.readline()\n",
    "    print(res)\n",
    "\n",
    "    file.seek(0)\n",
    "    res = file.readline()\n",
    "    print(res)\n"
   ],
   "id": "c807a7c898168332",
   "outputs": [
    {
     "name": "stdout",
     "output_type": "stream",
     "text": [
      " world\n",
      "\n",
      "hello world\n",
      "\n"
     ]
    }
   ],
   "execution_count": 11
  },
  {
   "metadata": {
    "ExecuteTime": {
     "end_time": "2025-10-17T09:44:03.606776Z",
     "start_time": "2025-10-17T09:44:03.603650Z"
    }
   },
   "cell_type": "code",
   "source": [
    "with open('./sample/sample.txt', 'r') as f:\n",
    "    print(f.readable())  # True"
   ],
   "id": "2b15126376489289",
   "outputs": [
    {
     "name": "stdout",
     "output_type": "stream",
     "text": [
      "True\n"
     ]
    }
   ],
   "execution_count": 13
  },
  {
   "metadata": {
    "ExecuteTime": {
     "end_time": "2025-10-17T09:44:40.222316Z",
     "start_time": "2025-10-17T09:44:40.219184Z"
    }
   },
   "cell_type": "code",
   "source": [
    "with open(\"./sample/sample.txt\", \"r\") as file:\n",
    "    print(file.writable())"
   ],
   "id": "c342acb70de3953b",
   "outputs": [
    {
     "name": "stdout",
     "output_type": "stream",
     "text": [
      "False\n"
     ]
    }
   ],
   "execution_count": 14
  },
  {
   "metadata": {
    "ExecuteTime": {
     "end_time": "2025-10-17T09:45:50.242526Z",
     "start_time": "2025-10-17T09:45:50.232141Z"
    }
   },
   "cell_type": "code",
   "source": [
    "with open(\"./sample/sample.txt\", \"r+\") as file:\n",
    "    file.truncate(8)\n",
    "    print(file.read())"
   ],
   "id": "a66dc7cc881705e7",
   "outputs": [
    {
     "name": "stdout",
     "output_type": "stream",
     "text": [
      "hello wo\n"
     ]
    }
   ],
   "execution_count": 16
  },
  {
   "metadata": {
    "ExecuteTime": {
     "end_time": "2025-10-17T09:58:09.511465Z",
     "start_time": "2025-10-17T09:58:09.505734Z"
    }
   },
   "cell_type": "code",
   "source": [
    "lines = ['Ahnaf ', '24 ', 'Dhaka']\n",
    "with open(\"./sample/sample_w.txt\", \"w\") as file:\n",
    "    file.writelines(lines)\n",
    "\n",
    "with open(\"./sample/sample_w.txt\", \"r\") as file:\n",
    "    for line in file:\n",
    "        name, age, city = line.split()\n",
    "        print(name , age, city)"
   ],
   "id": "6f2af4fa8c1f599a",
   "outputs": [
    {
     "name": "stdout",
     "output_type": "stream",
     "text": [
      "Ahnaf 24 Dhaka\n"
     ]
    }
   ],
   "execution_count": 24
  },
  {
   "metadata": {
    "ExecuteTime": {
     "end_time": "2025-10-17T10:04:38.410949Z",
     "start_time": "2025-10-17T10:04:38.407783Z"
    }
   },
   "cell_type": "code",
   "source": [
    "#  Returns the file descriptor number from the operating system\n",
    "with open(\"./sample/sample_w.txt\", \"r\") as file:\n",
    "    print(file.fileno())"
   ],
   "id": "c73e3fda375a3eff",
   "outputs": [
    {
     "name": "stdout",
     "output_type": "stream",
     "text": [
      "3\n"
     ]
    }
   ],
   "execution_count": 25
  },
  {
   "metadata": {
    "ExecuteTime": {
     "end_time": "2025-10-17T10:09:40.156169Z",
     "start_time": "2025-10-17T10:09:40.153019Z"
    }
   },
   "cell_type": "code",
   "source": [
    "with open(\"./sample/sample.txt\", \"r\") as src:\n",
    "    with open(\"./sample/sample_w.txt\", \"w\") as dst:\n",
    "        dst.write(src.read())"
   ],
   "id": "8fa8ea55458d171a",
   "outputs": [],
   "execution_count": 28
  },
  {
   "metadata": {
    "ExecuteTime": {
     "end_time": "2025-10-17T10:10:47.606443Z",
     "start_time": "2025-10-17T10:10:47.603074Z"
    }
   },
   "cell_type": "code",
   "source": [
    "with open(\"./sample/sample.txt\", \"r\") as file:\n",
    "    line_count = sum(1 for l in file)\n",
    "    print(line_count)"
   ],
   "id": "a60a078587c0aab9",
   "outputs": [
    {
     "name": "stdout",
     "output_type": "stream",
     "text": [
      "1\n"
     ]
    }
   ],
   "execution_count": 29
  },
  {
   "metadata": {},
   "cell_type": "code",
   "source": [
    "with open(\"./sample/demo.JPG\", \"rb\") as file:\n",
    "    print(file.read())"
   ],
   "id": "4ea778e647630a2b",
   "outputs": [],
   "execution_count": null
  },
  {
   "metadata": {},
   "cell_type": "markdown",
   "source": "Exception handling",
   "id": "6d967c43a62e6b23"
  },
  {
   "metadata": {
    "ExecuteTime": {
     "end_time": "2025-10-17T10:22:24.999837Z",
     "start_time": "2025-10-17T10:22:24.996556Z"
    }
   },
   "cell_type": "code",
   "source": [
    "try:\n",
    "    with open(\"non_existent_file.txt\", \"r\") as file:\n",
    "        content = file.read()\n",
    "        print(content)\n",
    "except FileNotFoundError:\n",
    "    print(\"Error: The file does not exist.\")"
   ],
   "id": "c4ca7e28a8bbb380",
   "outputs": [
    {
     "name": "stdout",
     "output_type": "stream",
     "text": [
      "Error: The file does not exist.\n"
     ]
    }
   ],
   "execution_count": 33
  },
  {
   "metadata": {
    "ExecuteTime": {
     "end_time": "2025-10-17T10:22:41.999599Z",
     "start_time": "2025-10-17T10:22:41.996568Z"
    }
   },
   "cell_type": "code",
   "source": [
    "try:\n",
    "    with open(\"non_existent_file.txt\", \"r\") as file:\n",
    "        content = file.read()\n",
    "        print(content)\n",
    "except Exception:\n",
    "    print(\"Error: The file does not exist.\")"
   ],
   "id": "a8a4bbe21e14231d",
   "outputs": [
    {
     "name": "stdout",
     "output_type": "stream",
     "text": [
      "Error: The file does not exist.\n"
     ]
    }
   ],
   "execution_count": 35
  },
  {
   "metadata": {
    "ExecuteTime": {
     "end_time": "2025-10-17T10:25:23.573686Z",
     "start_time": "2025-10-17T10:25:23.570693Z"
    }
   },
   "cell_type": "code",
   "source": [
    "try:\n",
    "    x = y\n",
    "except ZeroDivisionError:\n",
    "    print(\"You can't divide by zero.\")\n",
    "except Exception as e:\n",
    "    print(e)"
   ],
   "id": "c6db7f81ad48a268",
   "outputs": [
    {
     "name": "stdout",
     "output_type": "stream",
     "text": [
      "name 'y' is not defined\n"
     ]
    }
   ],
   "execution_count": 36
  },
  {
   "metadata": {
    "ExecuteTime": {
     "end_time": "2025-10-17T10:30:04.414395Z",
     "start_time": "2025-10-17T10:30:04.411280Z"
    }
   },
   "cell_type": "code",
   "source": [
    "try:\n",
    "    file = open(\"./sample/sample_a.txt\", \"r\")\n",
    "except Exception as e:\n",
    "    print(e)\n",
    "else:\n",
    "    print(file.read())\n",
    "finally:\n",
    "    print(\"GPU memory is free.\")"
   ],
   "id": "113977cce615cbfc",
   "outputs": [
    {
     "name": "stdout",
     "output_type": "stream",
     "text": [
      "Append Text\n",
      "GPU memory is free.\n"
     ]
    }
   ],
   "execution_count": 42
  },
  {
   "metadata": {},
   "cell_type": "markdown",
   "source": "Practice",
   "id": "7978cb3af5c680cd"
  },
  {
   "metadata": {
    "ExecuteTime": {
     "end_time": "2025-10-17T15:56:56.595965Z",
     "start_time": "2025-10-17T15:56:56.590692Z"
    }
   },
   "cell_type": "code",
   "source": [
    "from functools import reduce\n",
    "\n",
    "with open(\"./sample/sample.txt\", \"r\") as file:\n",
    "    res = file.readlines()\n",
    "    number_of_lines = len(res)\n",
    "    print(number_of_lines)\n",
    "\n",
    "    # === Number of words ===\n",
    "    # words = []\n",
    "    # for l in res:\n",
    "    #     print(l.split())\n",
    "    #     words.append(len(l.split()))\n",
    "    #     print(words)\n",
    "\n",
    "    number_of_words = list(map(lambda x: len(x.split()), res))\n",
    "    # ans = sum(number_of_words)\n",
    "    # print(ans)\n",
    "\n",
    "    ans = reduce(lambda x, y: x+y, number_of_words)\n",
    "    print(ans)\n",
    "\n",
    "    number_of_chars = list(map(lambda x: x.strip(), res))\n",
    "    # print(number_of_chars)\n",
    "    number_of_chars = list(map(lambda x: x.replace(\" \", \"\"), number_of_chars))\n",
    "    number_of_chars = list(map(lambda x: len(x), number_of_chars))\n",
    "    number_of_chars = reduce(lambda x, y: x+y, number_of_chars)\n",
    "    print(number_of_chars)\n",
    "\n",
    "    with open(\"./sample/sample_data.txt\", \"w\") as file:\n",
    "        file.write(f\"Number of lines {number_of_lines}\\nnumber og words {number_of_words}\\nnumber of characters {number_of_chars}\\n\")\n"
   ],
   "id": "3c1f783c8b0abb4d",
   "outputs": [
    {
     "name": "stdout",
     "output_type": "stream",
     "text": [
      "5\n",
      "22\n",
      "85\n"
     ]
    }
   ],
   "execution_count": 33
  },
  {
   "metadata": {},
   "cell_type": "code",
   "outputs": [],
   "execution_count": null,
   "source": "",
   "id": "6da91e3db52dbbae"
  }
 ],
 "metadata": {
  "kernelspec": {
   "display_name": "Python 3",
   "language": "python",
   "name": "python3"
  },
  "language_info": {
   "codemirror_mode": {
    "name": "ipython",
    "version": 2
   },
   "file_extension": ".py",
   "mimetype": "text/x-python",
   "name": "python",
   "nbconvert_exporter": "python",
   "pygments_lexer": "ipython2",
   "version": "2.7.6"
  }
 },
 "nbformat": 4,
 "nbformat_minor": 5
}
