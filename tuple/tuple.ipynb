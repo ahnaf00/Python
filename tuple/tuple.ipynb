{
 "cells": [
  {
   "cell_type": "code",
   "execution_count": null,
   "id": "initial_id",
   "metadata": {
    "collapsed": true
   },
   "outputs": [],
   "source": [
    "# Example 1: Counting categorical features in a dataset\n",
    "categories = ('cat', 'dog', 'cat', 'bird', 'cat', 'dog', 'cat')\n",
    "cat_frequency = categories.count('cat')\n",
    "print(f'Count of cat: {cat_frequency}')  # Output: 4\n",
    "\n",
    "# Example 2: Counting class labels for classification tasks\n",
    "labels = (0, 1, 1, 0, 1, 1, 1, 0, 0, 1)\n",
    "positive_class = labels.count(1)\n",
    "negative_class = labels.count(0)\n",
    "print(f'Positive samples: {positive_class}, Negative samples: {negative_class}')\n",
    "# Output: Positive samples: 6, Negative samples: 4\n",
    "\n",
    "# Example 3: Counting nested tuples (useful for coordinate data)\n",
    "coordinates = ((2, 3), (5, 7), (2, 3), (2, 3), (1, 1))\n",
    "duplicate_coords = coordinates.count((2, 3))\n",
    "print(f'Count of (2, 3): {duplicate_coords}')  # Output: 3\n"
   ]
  },
  {
   "metadata": {},
   "cell_type": "code",
   "outputs": [],
   "execution_count": null,
   "source": [
    "# Example 1: Finding feature position\n",
    "feature_names = ('age', 'income', 'education', 'score', 'rating')\n",
    "education_index = feature_names.index('education')\n",
    "print(f'Education is at index: {education_index}')  # Output: 2\n",
    "\n",
    "# Example 2: Locating specific class in multi-class classification\n",
    "classes = ('setosa', 'versicolor', 'virginica', 'versicolor', 'setosa')\n",
    "first_virginica = classes.index('virginica')\n",
    "print(f'First occurrence of virginica: {first_virginica}')  # Output: 2\n",
    "\n",
    "# Example 3: Finding index with range (optional start and end parameters)\n",
    "data = (10, 20, 30, 40, 20, 50, 20)\n",
    "second_occurrence = data.index(20, 2)  # Search from index 2\n",
    "print(f'Second occurrence of 20 at index: {second_occurrence}')  # Output: 4"
   ],
   "id": "412c08a3e94663ff"
  },
  {
   "metadata": {},
   "cell_type": "markdown",
   "source": "Tuple Packing and Unpacking\n",
   "id": "de984bdbb97d2815"
  },
  {
   "metadata": {},
   "cell_type": "code",
   "outputs": [],
   "execution_count": null,
   "source": [
    "# Example 1: Packing multiple metrics from model evaluation\n",
    "def evaluate_model(predictions, actual):\n",
    "    accuracy = 0.95\n",
    "    precision = 0.92\n",
    "    recall = 0.89\n",
    "    f1_score = 0.90\n",
    "    # Packing values into tuple\n",
    "    return accuracy, precision, recall, f1_score\n",
    "\n",
    "# Unpacking the returned tuple\n",
    "acc, prec, rec, f1 = evaluate_model([], [])\n",
    "print(f'Accuracy: {acc}, Precision: {prec}, Recall: {rec}, F1: {f1}')\n",
    "\n",
    "# Example 2: Unpacking coordinates in image processing\n",
    "point = (128, 256, 64)  # x, y, z coordinates\n",
    "x, y, z = point\n",
    "print(f'Coordinates - X: {x}, Y: {y}, Z: {z}')\n",
    "\n",
    "# Example 3: Extended unpacking with *\n",
    "train_data = (0.8, 0.1, 0.05, 0.03, 0.02)\n",
    "train_split, validation_split, *test_splits = train_data\n",
    "print(f'Train: {train_split}, Validation: {validation_split}, Tests: {test_splits}')\n",
    "# Output: Train: 0.8, Validation: 0.1, Tests: [0.05, 0.03, 0.02]"
   ],
   "id": "6bd976ccf9417cd8"
  },
  {
   "metadata": {},
   "cell_type": "markdown",
   "source": "Tuple Concatenation and Repetition",
   "id": "a501007e4f5cd0b9"
  },
  {
   "metadata": {},
   "cell_type": "code",
   "source": [
    "# Example 1: Combining feature sets\n",
    "numeric_features = ('age', 'income', 'score')\n",
    "categorical_features = ('gender', 'category', 'region')\n",
    "all_features = numeric_features + categorical_features\n",
    "print(f'All features: {all_features}')\n",
    "# All features: ('age', 'income', 'score', 'gender', 'category', 'region')\n",
    "\n",
    "# Example 2: Repeating configurations for batch processing\n",
    "batch_config = (32, 0.001)  # batch_size, learning_rate\n",
    "multiple_configs = batch_config * 3\n",
    "print(f'Multiple configs: {multiple_configs}')\n",
    "# Output: (32, 0.001, 32, 0.001, 32, 0.001)\n",
    "\n",
    "# Example 3: Creating repeated labels for data augmentation\n",
    "base_label = (1,)\n",
    "augmented_labels = base_label * 5\n",
    "print(f'Augmented labels: {augmented_labels}')  # Output: (1, 1, 1, 1, 1)"
   ],
   "id": "faff570900d9f311",
   "outputs": [],
   "execution_count": null
  },
  {
   "metadata": {},
   "cell_type": "markdown",
   "source": "Tuple Slicing",
   "id": "48543e0da2ea9ee0"
  },
  {
   "metadata": {},
   "cell_type": "code",
   "outputs": [],
   "execution_count": null,
   "source": [
    "# Example 1: Extracting feature subsets\n",
    "all_features = ('f1', 'f2', 'f3', 'f4', 'f5', 'f6', 'f7', 'f8')\n",
    "first_three = all_features[:3]\n",
    "last_two = all_features[-2:]\n",
    "middle_features = all_features[2:5]\n",
    "print(f'First three: {first_three}')  # Output: ('f1', 'f2', 'f3')\n",
    "print(f'Last two: {last_two}')  # Output: ('f7', 'f8')\n",
    "print(f'Middle: {middle_features}')  # Output: ('f3', 'f4', 'f5')\n",
    "\n",
    "# Example 2: Reverse tuple for backward processing\n",
    "sequence = (1, 2, 3, 4, 5)\n",
    "reversed_seq = sequence[::-1]\n",
    "print(f'Reversed: {reversed_seq}')  # Output: (5, 4, 3, 2, 1)\n",
    "\n",
    "# Example 3: Step slicing for sampling\n",
    "epochs = (1, 2, 3, 4, 5, 6, 7, 8, 9, 10)\n",
    "every_second_epoch = epochs[::2]\n",
    "print(f'Every 2nd epoch: {every_second_epoch}')  # Output: (1, 3, 5, 7, 9)\n"
   ],
   "id": "e2ec052ed3204871"
  },
  {
   "metadata": {},
   "cell_type": "markdown",
   "source": "Converting Between Lists and Tuples\n",
   "id": "90971f10553bee6d"
  },
  {
   "metadata": {},
   "cell_type": "code",
   "outputs": [],
   "execution_count": null,
   "source": [
    "# Example 1: Converting list to tuple for hashable keys\n",
    "feature_list = ['age', 'income', 'education']\n",
    "feature_tuple = tuple(feature_list)\n",
    "print(f'Tuple: {feature_tuple}')  # Output: ('age', 'income', 'education')\n",
    "\n",
    "# Example 2: Converting tuple to list for modifications\n",
    "hyperparameters = (0.001, 0.9, 32, 100)\n",
    "param_list = list(hyperparameters)\n",
    "param_list[0] = 0.01  # Modify learning rate\n",
    "updated_params = tuple(param_list)\n",
    "print(f'Updated: {updated_params}')  # Output: (0.01, 0.9, 32, 100)\n",
    "\n",
    "# Example 3: Converting numpy-like structures\n",
    "import numpy as np\n",
    "array_data = np.array([1.5, 2.3, 3.7])\n",
    "data_tuple = tuple(array_data)\n",
    "print(f'Array to tuple: {data_tuple}')  # Output: (1.5, 2.3, 3.7)"
   ],
   "id": "fdd80902b5db63e1"
  },
  {
   "metadata": {},
   "cell_type": "markdown",
   "source": "Tuple Membership Testing\n",
   "id": "dd6956e266a9ab16"
  },
  {
   "metadata": {},
   "cell_type": "code",
   "source": [
    "# Example 1: Checking valid categories\n",
    "valid_categories = ('A', 'B', 'C', 'D')\n",
    "user_input = 'B'\n",
    "if user_input in valid_categories:\n",
    "    print(f'{user_input} is a valid category')\n",
    "    # Output: B is a valid category\n",
    "\n",
    "# Example 2: Feature validation\n",
    "required_features = ('age', 'income', 'score', 'rating')\n",
    "feature = 'education'\n",
    "is_required = feature in required_features\n",
    "print(f'Is {feature} required? {is_required}')\n",
    "# Output: Is education required? False\n",
    "\n",
    "# Example 3: Multi-value checking for model architectures\n",
    "supported_activations = ('relu', 'sigmoid', 'tan', 'softmax')\n",
    "chosen_activation = 'relu'\n",
    "if chosen_activation not in supported_activations:\n",
    "    print('Unsupported activation function')\n",
    "else:\n",
    "    print(f'{chosen_activation} is supported')\n",
    "    # Output: relu is supported"
   ],
   "id": "ad3075b2c5dbd2c0",
   "outputs": [],
   "execution_count": null
  },
  {
   "metadata": {},
   "cell_type": "markdown",
   "source": "Tuple as Dictionary Keys",
   "id": "8f6b271797f488cb"
  },
  {
   "metadata": {
    "ExecuteTime": {
     "end_time": "2025-10-12T16:47:55.257443Z",
     "start_time": "2025-10-12T16:47:55.253582Z"
    }
   },
   "cell_type": "code",
   "source": [
    "# Example 1: Caching model predictions with input combinations\n",
    "prediction_cache = {}\n",
    "input_features = (25, 50000, 3.5)  # age, income, score\n",
    "prediction_cache[input_features] = 0.87\n",
    "print(f'Cached prediction: {prediction_cache[input_features]}')\n",
    "# Output: Cached prediction: 0.87\n",
    "\n",
    "# Example 2: Storing hyperparameter experiment results\n",
    "experiment_results = {}\n",
    "config1 = (0.001, 32, 'adam')  # learning_rate, batch_size, optimizer\n",
    "experiment_results[config1] = {'accuracy': 0.92, 'loss': 0.15}\n",
    "print(f'Results for config: {experiment_results[config1]}')\n",
    "# Output: Results for config: {'accuracy': 0.92, 'loss': 0.15}\n",
    "# Example 3: Multi-dimensional coordinate indexing\n",
    "grid_values = {}\n",
    "grid_values[(0, 0)] = 1.5\n",
    "grid_values[(0, 1)] = 2.3\n",
    "grid_values[(1, 0)] = 3.7\n",
    "print(f'Value at (0,1): {grid_values[(0, 1)]}')  # Output: 2.3"
   ],
   "id": "adc150b56aa852aa",
   "outputs": [
    {
     "name": "stdout",
     "output_type": "stream",
     "text": [
      "Cached prediction: 0.87\n",
      "Results for config: {'accuracy': 0.92, 'loss': 0.15}\n",
      "Value at (0,1): 2.3\n"
     ]
    }
   ],
   "execution_count": 3
  },
  {
   "metadata": {},
   "cell_type": "markdown",
   "source": "Returning Multiple Values from Functions\n",
   "id": "2c5afddb6c47e67d"
  },
  {
   "metadata": {},
   "cell_type": "code",
   "outputs": [],
   "execution_count": null,
   "source": [
    "# Example 1: Splitting dataset\n",
    "def train_test_split(data, split_ratio=0.8):\n",
    "    split_index = int(len(data) * split_ratio)\n",
    "    train = data[:split_index]\n",
    "    test = data[split_index:]\n",
    "    return train, test  # Returns tuple\n",
    "\n",
    "data = tuple(range(100))\n",
    "train_set, test_set = train_test_split(data)\n",
    "print(f'Train size: {len(train_set)}, Test size: {len(test_set)}')\n",
    "\n",
    "# Example 2: Computing statistics\n",
    "def compute_stats(values):\n",
    "    total = sum(values)\n",
    "    count = len(values)\n",
    "    mean = total / count\n",
    "    minimum = min(values)\n",
    "    maximum = max(values)\n",
    "    return mean, minimum, maximum\n",
    "\n",
    "stats = (85, 90, 78, 92, 88)\n",
    "avg, min_val, max_val = compute_stats(stats)\n",
    "print(f'Mean: {avg}, Min: {min_val}, Max: {max_val}')\n",
    "\n",
    "# Example 3: Model training results\n",
    "def train_model(epochs):\n",
    "    final_loss = 0.12\n",
    "    final_accuracy = 0.94\n",
    "    training_time = 125.5\n",
    "    best_epoch = 47\n",
    "    return final_loss, final_accuracy, training_time, best_epoch\n",
    "\n",
    "loss, acc, time, epoch = train_model(50)\n",
    "print(f'Loss: {loss}, Accuracy: {acc}, Time: {time}s, Best epoch: {epoch}')\n"
   ],
   "id": "9e8df0ce82c6b026"
  },
  {
   "metadata": {},
   "cell_type": "markdown",
   "source": "Nested Tuples for Multi-dimensional Data\n",
   "id": "7796f29d9d731783"
  },
  {
   "metadata": {},
   "cell_type": "code",
   "source": [
    "# Example 1: Representing image dimensions with color channels\n",
    "image_shape = (224, 224, 3)  # height, width, channels\n",
    "height, width, channels = image_shape\n",
    "print(f'Image: {height}x{width} with {channels} channels')\n",
    "\n",
    "# Example 2: Nested tuples for point clouds\n",
    "point_cloud = ((1.0, 2.0, 3.0), (4.0, 5.0, 6.0), (7.0, 8.0, 9.0))\n",
    "first_point = point_cloud[0]\n",
    "print(f'First point coordinates: {first_point}')  # Output: (1.0, 2.0, 3.0)\n",
    "\n",
    "# Example 3: Layer configurations in neural networks\n",
    "network_architecture = (\n",
    "    ('conv', 32, (3, 3)),\n",
    "    ('pool', (2, 2)),\n",
    "    ('conv', 64, (3, 3)),\n",
    "    ('dense', 128)\n",
    ")\n",
    "first_layer = network_architecture[0]\n",
    "layer_type, filters, kernel_size = first_layer\n",
    "print(f'First layer: {layer_type} with {filters} filters and {kernel_size} kernel')\n"
   ],
   "id": "e53759217989eeb9",
   "outputs": [],
   "execution_count": null
  }
 ],
 "metadata": {
  "kernelspec": {
   "display_name": "Python 3",
   "language": "python",
   "name": "python3"
  },
  "language_info": {
   "codemirror_mode": {
    "name": "ipython",
    "version": 2
   },
   "file_extension": ".py",
   "mimetype": "text/x-python",
   "name": "python",
   "nbconvert_exporter": "python",
   "pygments_lexer": "ipython2",
   "version": "2.7.6"
  }
 },
 "nbformat": 4,
 "nbformat_minor": 5
}
