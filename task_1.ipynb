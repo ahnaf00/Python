{
 "cells": [
  {
   "cell_type": "code",
   "id": "initial_id",
   "metadata": {
    "collapsed": true,
    "ExecuteTime": {
     "end_time": "2025-10-18T06:40:47.248720Z",
     "start_time": "2025-10-18T06:40:39.491121Z"
    }
   },
   "source": [
    "lst = list(map(int,input().split()))\n",
    "res = list(filter(lambda x: x%2==0, lst))\n",
    "print(res)"
   ],
   "outputs": [
    {
     "name": "stdout",
     "output_type": "stream",
     "text": [
      "[2, 4, 6, 8]\n"
     ]
    }
   ],
   "execution_count": 3
  },
  {
   "metadata": {
    "ExecuteTime": {
     "end_time": "2025-10-18T06:47:59.473502Z",
     "start_time": "2025-10-18T06:47:53.268521Z"
    }
   },
   "cell_type": "code",
   "source": [
    "def safe_divide(a,b):\n",
    "    try:\n",
    "        res = a/b\n",
    "    except ZeroDivisionError:\n",
    "        print(\"Division by zero\")\n",
    "    else:\n",
    "        print(res)\n",
    "\n",
    "x,y = map(int,input().split())\n",
    "safe_divide(x,y)"
   ],
   "id": "702c02103168d51e",
   "outputs": [
    {
     "name": "stdout",
     "output_type": "stream",
     "text": [
      "Division by zero\n"
     ]
    }
   ],
   "execution_count": 9
  },
  {
   "metadata": {
    "ExecuteTime": {
     "end_time": "2025-10-18T07:41:42.914895Z",
     "start_time": "2025-10-18T07:41:42.910944Z"
    }
   },
   "cell_type": "code",
   "source": [
    "class Shape:\n",
    "    def area(self):\n",
    "        return 0\n",
    "\n",
    "class Rectangle(Shape):\n",
    "    def __init__(self,x,y):\n",
    "        self.x = x\n",
    "        self.y = y\n",
    "\n",
    "    def area(self):\n",
    "        return self.x*self.y\n",
    "\n",
    "res = Rectangle(5,10)\n",
    "res = res.area()\n",
    "print(f\"{res:.2f}\")\n",
    "\n",
    "class Circle(Shape):\n",
    "    def __init__(self,r):\n",
    "        self.r = r\n",
    "\n",
    "    def area(self):\n",
    "        return self.r*self.r*3.1416\n",
    "\n",
    "res = Circle(7)\n",
    "res = res.area()\n",
    "print(f\"{res:.2f}\")"
   ],
   "id": "a11aca973e75fc7d",
   "outputs": [
    {
     "name": "stdout",
     "output_type": "stream",
     "text": [
      "50.00\n",
      "153.94\n"
     ]
    }
   ],
   "execution_count": 34
  },
  {
   "metadata": {
    "ExecuteTime": {
     "end_time": "2025-10-18T07:46:44.286198Z",
     "start_time": "2025-10-18T07:46:28.521752Z"
    }
   },
   "cell_type": "code",
   "source": [
    "s = input().split()\n",
    "mx_res = s[0]\n",
    "\n",
    "for i in s:\n",
    "    if len(i) > len(mx_res):\n",
    "        mx_res = i\n",
    "\n",
    "print(mx_res)"
   ],
   "id": "e2bb417f01aa6d2",
   "outputs": [
    {
     "name": "stdout",
     "output_type": "stream",
     "text": [
      "programming\n"
     ]
    }
   ],
   "execution_count": 40
  },
  {
   "metadata": {
    "ExecuteTime": {
     "end_time": "2025-10-18T07:56:56.549857Z",
     "start_time": "2025-10-18T07:56:53.140723Z"
    }
   },
   "cell_type": "code",
   "source": [
    "n = int(input())\n",
    "tmp = n\n",
    "lst = []\n",
    "while n > 0:\n",
    "    remainder = n%10\n",
    "    lst.append(remainder)\n",
    "    n = n//10\n",
    "print(lst)\n",
    "sum_res = 0\n",
    "for i in lst:\n",
    "    res = 1\n",
    "    while True:\n",
    "        if i == 0:\n",
    "            break\n",
    "        res*=i\n",
    "        i = i-1\n",
    "    sum_res += res\n",
    "    # print(i)\n",
    "\n",
    "# print(sum_res)\n",
    "if sum_res == tmp:\n",
    "    print(\"Strong Number\")\n",
    "else:\n",
    "    print(\"Not Strong Number\")\n",
    "\n"
   ],
   "id": "f7e82ff5d3ee7c13",
   "outputs": [
    {
     "name": "stdout",
     "output_type": "stream",
     "text": [
      "[1, 1, 1]\n",
      "Not Strongn Number\n"
     ]
    }
   ],
   "execution_count": 55
  },
  {
   "metadata": {},
   "cell_type": "code",
   "outputs": [],
   "execution_count": null,
   "source": "",
   "id": "95119674159f3e28"
  }
 ],
 "metadata": {
  "kernelspec": {
   "display_name": "Python 3",
   "language": "python",
   "name": "python3"
  },
  "language_info": {
   "codemirror_mode": {
    "name": "ipython",
    "version": 2
   },
   "file_extension": ".py",
   "mimetype": "text/x-python",
   "name": "python",
   "nbconvert_exporter": "python",
   "pygments_lexer": "ipython2",
   "version": "2.7.6"
  }
 },
 "nbformat": 4,
 "nbformat_minor": 5
}
