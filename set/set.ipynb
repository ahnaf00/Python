{
 "cells": [
  {
   "cell_type": "code",
   "execution_count": null,
   "id": "initial_id",
   "metadata": {
    "collapsed": true
   },
   "outputs": [],
   "source": [
    "features = {'age', 'income'}\n",
    "features.add('education')\n",
    "print(features)  # {'age', 'income', 'education'}"
   ]
  },
  {
   "metadata": {},
   "cell_type": "code",
   "outputs": [],
   "execution_count": null,
   "source": [
    "# Removes a specified element. remove() raises an error if the element is missing; discard() does not.\n",
    "\n",
    "labels = {'cat', 'dog', 'mouse'}\n",
    "labels.remove('dog')\n",
    "labels.discard('rabbit')  # No error\n",
    "print(labels)  # {'cat', 'mouse'}"
   ],
   "id": "9381a4c1377275c5"
  },
  {
   "metadata": {},
   "cell_type": "code",
   "outputs": [],
   "execution_count": null,
   "source": [
    "# Combines elements from two sets (removes duplicates).\n",
    "set1 = {'apple', 'banana'}\n",
    "set2 = {'banana', 'cherry'}\n",
    "result = set1.union(set2)\n",
    "print(result)  # {'apple', 'banana', 'cherry'}"
   ],
   "id": "121f464f46b1a390"
  },
  {
   "metadata": {},
   "cell_type": "code",
   "outputs": [],
   "execution_count": null,
   "source": [
    "train_labels = {'A', 'B', 'C'}\n",
    "test_labels = {'B', 'C', 'D'}\n",
    "common = train_labels.intersection(test_labels)\n",
    "print(common)  # {'B', 'C'}"
   ],
   "id": "86b972f59cc46f12"
  },
  {
   "metadata": {},
   "cell_type": "code",
   "outputs": [],
   "execution_count": null,
   "source": [
    "all_features = {'height', 'weight', 'age'}\n",
    "used_features = {'weight', 'age'}\n",
    "unused = all_features.difference(used_features)\n",
    "print(unused)  # {'height'}"
   ],
   "id": "412d722c128e9b17"
  },
  {
   "metadata": {},
   "cell_type": "markdown",
   "source": "Advanced",
   "id": "fd14e886d5a9618a"
  },
  {
   "metadata": {},
   "cell_type": "code",
   "outputs": [],
   "execution_count": null,
   "source": [
    "usernames = [\"Alice\", \" bob\", \"ALICE \", \"Bob\", \"charlie\", \"Charlie\", \"JOHN\"]\n",
    "cleaned = {name.lower().strip() for name in usernames}\n",
    "print(cleaned)  # {'bob', 'alice', 'john', 'charlie'}"
   ],
   "id": "9355ea7b25ba775e"
  },
  {
   "metadata": {},
   "cell_type": "code",
   "outputs": [],
   "execution_count": null,
   "source": [
    "a = {1, 2, 3, 4}\n",
    "b = {2, 3, 4, 5}\n",
    "c = {3, 4, 5, 6}\n",
    "d = {4, 5, 6, 7}\n",
    "common = a.intersection(b, c, d)\n",
    "print(common)  # {4}"
   ],
   "id": "2bcc1d74eef2fa74"
  },
  {
   "metadata": {},
   "cell_type": "code",
   "outputs": [],
   "execution_count": null,
   "source": [
    "predicted = {'cat', 'dog', 'mouse'}\n",
    "actual = {'dog', 'mouse', 'rabbit'}\n",
    "errors = predicted.symmetric_difference(actual)\n",
    "print(errors)  # {'cat', 'rabbit'}"
   ],
   "id": "5e31142ca54abe24"
  },
  {
   "metadata": {},
   "cell_type": "code",
   "outputs": [],
   "execution_count": null,
   "source": [
    "required_features = {'age', 'income', 'education'}\n",
    "dataset_features = {'age', 'income', 'education', 'gender'}\n",
    "is_valid = required_features.issubset(dataset_features)\n",
    "print(is_valid)  # True"
   ],
   "id": "1fedfb3710d10ac7"
  },
  {
   "metadata": {},
   "cell_type": "code",
   "outputs": [],
   "execution_count": null,
   "source": [
    "all_features = {'height', 'weight', 'age', 'income'}\n",
    "irrelevant_features = {'income'}\n",
    "selected = all_features.difference(irrelevant_features)\n",
    "print(selected)  # {'height', 'weight', 'age'}"
   ],
   "id": "3035a80ddb9cb473"
  },
  {
   "metadata": {},
   "cell_type": "code",
   "outputs": [],
   "execution_count": null,
   "source": [
    "transactions = ['id1', 'id2', 'id1', 'id3', 'id2']\n",
    "unique_transactions = set(transactions)\n",
    "print(unique_transactions)  # {'id1', 'id2', 'id3'}"
   ],
   "id": "23f0a3f04bde7c13"
  },
  {
   "metadata": {},
   "cell_type": "code",
   "outputs": [],
   "execution_count": null,
   "source": "",
   "id": "d95037523985e705"
  }
 ],
 "metadata": {
  "kernelspec": {
   "display_name": "Python 3",
   "language": "python",
   "name": "python3"
  },
  "language_info": {
   "codemirror_mode": {
    "name": "ipython",
    "version": 2
   },
   "file_extension": ".py",
   "mimetype": "text/x-python",
   "name": "python",
   "nbconvert_exporter": "python",
   "pygments_lexer": "ipython2",
   "version": "2.7.6"
  }
 },
 "nbformat": 4,
 "nbformat_minor": 5
}
